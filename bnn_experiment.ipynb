{
 "cells": [
  {
   "cell_type": "markdown",
   "metadata": {},
   "source": [
    "# GUI for BN"
   ]
  },
  {
   "cell_type": "markdown",
   "metadata": {},
   "source": [
    "## Import libs"
   ]
  },
  {
   "cell_type": "code",
   "execution_count": 3,
   "metadata": {},
   "outputs": [],
   "source": [
    "import pandas as pd\n",
    "import numpy as np\n",
    "\n",
    "import pygraphviz as pgv\n",
    "from pgmpy.models.BayesianNetwork import BayesianNetwork\n",
    "from pgmpy.estimators import MaximumLikelihoodEstimator\n",
    "from pgmpy.metrics import correlation_score\n",
    "from pgmpy.metrics import log_likelihood_score\n",
    "from pgmpy.inference import VariableElimination\n",
    "from pgmpy.estimators import BayesianEstimator\n",
    "from pgmpy.factors.discrete import TabularCPD\n",
    "\n",
    "from datetime import datetime\n",
    "\n",
    "from sklearn.metrics import accuracy_score, recall_score, precision_score, f1_score\n",
    "\n",
    "import os\n",
    "import pprint\n",
    "\n",
    "from IPython.display import Image\n",
    "import matplotlib.pyplot as plt\n",
    "\n",
    "\n",
    "import ipywidgets as widgets\n",
    "from IPython.display import display, HTML\n",
    "\n",
    "import networkx as nx\n",
    "from pgmpy.readwrite import BIFReader\n",
    "import seaborn as sns\n",
    "\n",
    "import streamlit as st\n",
    "from pyvis.network import Network"
   ]
  },
  {
   "cell_type": "markdown",
   "metadata": {},
   "source": [
    "## Create a Bayesian Network"
   ]
  },
  {
   "cell_type": "code",
   "execution_count": 4,
   "metadata": {},
   "outputs": [],
   "source": [
    "model = BayesianNetwork()\n",
    "\n",
    "# Add structure (edges between nodes)\n",
    "model.add_nodes_from([\"seasons\", \"temperature\", \"wind\", \"rain\", \"sunlight\", \"mood\", \"walk\"])\n",
    "\n",
    "# Define edges (dependencies)\n",
    "edges = [\n",
    "    (\"seasons\", \"temperature\"),\n",
    "    (\"seasons\", \"wind\"),\n",
    "    (\"seasons\", \"rain\"),\n",
    "    (\"seasons\", \"sunlight\"),\n",
    "    (\"temperature\", \"walk\"),\n",
    "    (\"rain\", \"mood\"),\n",
    "    (\"sunlight\", \"mood\"),\n",
    "    (\"wind\", \"walk\"),\n",
    "    (\"temperature\", \"rain\"),\n",
    "    (\"wind\", \"rain\"),\n",
    "    (\"temperature\", \"sunlight\"),\n",
    "    (\"wind\", \"sunlight\"),\n",
    "    (\"mood\", \"walk\")\n",
    "]\n",
    "\n",
    "model.add_edges_from(edges)"
   ]
  }
 ],
 "metadata": {
  "kernelspec": {
   "display_name": "Python 3",
   "language": "python",
   "name": "python3"
  },
  "language_info": {
   "codemirror_mode": {
    "name": "ipython",
    "version": 3
   },
   "file_extension": ".py",
   "mimetype": "text/x-python",
   "name": "python",
   "nbconvert_exporter": "python",
   "pygments_lexer": "ipython3",
   "version": "3.13.2"
  }
 },
 "nbformat": 4,
 "nbformat_minor": 2
}
