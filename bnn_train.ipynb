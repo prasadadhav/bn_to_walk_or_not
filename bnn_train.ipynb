{
 "cells": [
  {
   "cell_type": "markdown",
   "metadata": {},
   "source": [
    "# Load libs"
   ]
  },
  {
   "cell_type": "code",
   "execution_count": 9,
   "metadata": {},
   "outputs": [],
   "source": [
    "import pandas as pd\n",
    "import numpy as np\n",
    "\n",
    "import pygraphviz as pgv\n",
    "from pgmpy.models.BayesianNetwork import BayesianNetwork\n",
    "from pgmpy.estimators import MaximumLikelihoodEstimator\n",
    "from pgmpy.metrics import correlation_score\n",
    "from pgmpy.metrics import log_likelihood_score\n",
    "from pgmpy.inference import VariableElimination\n",
    "\n",
    "from datetime import datetime\n",
    "\n",
    "from sklearn.metrics import accuracy_score, recall_score, precision_score, f1_score\n",
    "\n",
    "import os\n",
    "import pprint\n",
    "\n",
    "from IPython.display import Image\n",
    "import matplotlib.pyplot as plt"
   ]
  },
  {
   "cell_type": "markdown",
   "metadata": {},
   "source": [
    "## Load data"
   ]
  },
  {
   "cell_type": "code",
   "execution_count": 10,
   "metadata": {},
   "outputs": [
    {
     "name": "stdout",
     "output_type": "stream",
     "text": [
      "         date  temperature month seasons  rain  sunlight  wind  mood  walk\n",
      "0  2024-01-01            2   Jan  Winter     1         0    26   -42     0\n",
      "1  2024-01-02            0   Jan  Winter     0         1    14   -22     0\n",
      "2  2024-01-03            3   Jan  Winter     0         1    12   -13     0\n",
      "3  2024-01-04            4   Jan  Winter     0         1    15   -12     0\n",
      "4  2024-01-05            2   Jan  Winter     0         1    15    -7     0\n"
     ]
    }
   ],
   "source": [
    "df = pd.read_csv('./data/dummy_data.csv')\n",
    "print(df.head())"
   ]
  },
  {
   "cell_type": "markdown",
   "metadata": {},
   "source": [
    "## Convert the date into date, time format"
   ]
  },
  {
   "cell_type": "code",
   "execution_count": 11,
   "metadata": {},
   "outputs": [
    {
     "data": {
      "application/vnd.microsoft.datawrangler.viewer.v0+json": {
       "columns": [
        {
         "name": "index",
         "rawType": "int64",
         "type": "integer"
        },
        {
         "name": "date",
         "rawType": "datetime64[ns]",
         "type": "datetime"
        },
        {
         "name": "temperature",
         "rawType": "int64",
         "type": "integer"
        },
        {
         "name": "month",
         "rawType": "object",
         "type": "string"
        },
        {
         "name": "seasons",
         "rawType": "object",
         "type": "string"
        },
        {
         "name": "rain",
         "rawType": "int64",
         "type": "integer"
        },
        {
         "name": "sunlight",
         "rawType": "int64",
         "type": "integer"
        },
        {
         "name": "wind",
         "rawType": "int64",
         "type": "integer"
        },
        {
         "name": "mood",
         "rawType": "int64",
         "type": "integer"
        },
        {
         "name": "walk",
         "rawType": "int64",
         "type": "integer"
        }
       ],
       "conversionMethod": "pd.DataFrame",
       "ref": "fb5426ad-403a-405b-88c6-b76a648212d5",
       "rows": [
        [
         "0",
         "2024-01-01 00:00:00",
         "2",
         "Jan",
         "Winter",
         "1",
         "0",
         "26",
         "-42",
         "0"
        ],
        [
         "1",
         "2024-01-02 00:00:00",
         "0",
         "Jan",
         "Winter",
         "0",
         "1",
         "14",
         "-22",
         "0"
        ],
        [
         "2",
         "2024-01-03 00:00:00",
         "3",
         "Jan",
         "Winter",
         "0",
         "1",
         "12",
         "-13",
         "0"
        ],
        [
         "3",
         "2024-01-04 00:00:00",
         "4",
         "Jan",
         "Winter",
         "0",
         "1",
         "15",
         "-12",
         "0"
        ],
        [
         "4",
         "2024-01-05 00:00:00",
         "2",
         "Jan",
         "Winter",
         "0",
         "1",
         "15",
         "-7",
         "0"
        ]
       ],
       "shape": {
        "columns": 9,
        "rows": 5
       }
      },
      "text/html": [
       "<div>\n",
       "<style scoped>\n",
       "    .dataframe tbody tr th:only-of-type {\n",
       "        vertical-align: middle;\n",
       "    }\n",
       "\n",
       "    .dataframe tbody tr th {\n",
       "        vertical-align: top;\n",
       "    }\n",
       "\n",
       "    .dataframe thead th {\n",
       "        text-align: right;\n",
       "    }\n",
       "</style>\n",
       "<table border=\"1\" class=\"dataframe\">\n",
       "  <thead>\n",
       "    <tr style=\"text-align: right;\">\n",
       "      <th></th>\n",
       "      <th>date</th>\n",
       "      <th>temperature</th>\n",
       "      <th>month</th>\n",
       "      <th>seasons</th>\n",
       "      <th>rain</th>\n",
       "      <th>sunlight</th>\n",
       "      <th>wind</th>\n",
       "      <th>mood</th>\n",
       "      <th>walk</th>\n",
       "    </tr>\n",
       "  </thead>\n",
       "  <tbody>\n",
       "    <tr>\n",
       "      <th>0</th>\n",
       "      <td>2024-01-01</td>\n",
       "      <td>2</td>\n",
       "      <td>Jan</td>\n",
       "      <td>Winter</td>\n",
       "      <td>1</td>\n",
       "      <td>0</td>\n",
       "      <td>26</td>\n",
       "      <td>-42</td>\n",
       "      <td>0</td>\n",
       "    </tr>\n",
       "    <tr>\n",
       "      <th>1</th>\n",
       "      <td>2024-01-02</td>\n",
       "      <td>0</td>\n",
       "      <td>Jan</td>\n",
       "      <td>Winter</td>\n",
       "      <td>0</td>\n",
       "      <td>1</td>\n",
       "      <td>14</td>\n",
       "      <td>-22</td>\n",
       "      <td>0</td>\n",
       "    </tr>\n",
       "    <tr>\n",
       "      <th>2</th>\n",
       "      <td>2024-01-03</td>\n",
       "      <td>3</td>\n",
       "      <td>Jan</td>\n",
       "      <td>Winter</td>\n",
       "      <td>0</td>\n",
       "      <td>1</td>\n",
       "      <td>12</td>\n",
       "      <td>-13</td>\n",
       "      <td>0</td>\n",
       "    </tr>\n",
       "    <tr>\n",
       "      <th>3</th>\n",
       "      <td>2024-01-04</td>\n",
       "      <td>4</td>\n",
       "      <td>Jan</td>\n",
       "      <td>Winter</td>\n",
       "      <td>0</td>\n",
       "      <td>1</td>\n",
       "      <td>15</td>\n",
       "      <td>-12</td>\n",
       "      <td>0</td>\n",
       "    </tr>\n",
       "    <tr>\n",
       "      <th>4</th>\n",
       "      <td>2024-01-05</td>\n",
       "      <td>2</td>\n",
       "      <td>Jan</td>\n",
       "      <td>Winter</td>\n",
       "      <td>0</td>\n",
       "      <td>1</td>\n",
       "      <td>15</td>\n",
       "      <td>-7</td>\n",
       "      <td>0</td>\n",
       "    </tr>\n",
       "  </tbody>\n",
       "</table>\n",
       "</div>"
      ],
      "text/plain": [
       "        date  temperature month seasons  rain  sunlight  wind  mood  walk\n",
       "0 2024-01-01            2   Jan  Winter     1         0    26   -42     0\n",
       "1 2024-01-02            0   Jan  Winter     0         1    14   -22     0\n",
       "2 2024-01-03            3   Jan  Winter     0         1    12   -13     0\n",
       "3 2024-01-04            4   Jan  Winter     0         1    15   -12     0\n",
       "4 2024-01-05            2   Jan  Winter     0         1    15    -7     0"
      ]
     },
     "execution_count": 11,
     "metadata": {},
     "output_type": "execute_result"
    }
   ],
   "source": [
    "# Convert 'date' column to datetime format\n",
    "df['date'] = pd.to_datetime(df['date'])\n",
    "\n",
    "# Print the dataframe to verify the conversion\n",
    "df.head()"
   ]
  },
  {
   "cell_type": "markdown",
   "metadata": {},
   "source": [
    "# BNN"
   ]
  },
  {
   "cell_type": "markdown",
   "metadata": {},
   "source": [
    "## Create Bayesian network"
   ]
  },
  {
   "cell_type": "code",
   "execution_count": 12,
   "metadata": {},
   "outputs": [
    {
     "name": "stdout",
     "output_type": "stream",
     "text": [
      "[('temperature', 'mood'), ('temperature', 'rain'), ('temperature', 'sunlight'), ('mood', 'walk'), ('rain', 'mood'), ('sunlight', 'mood'), ('wind', 'mood'), ('wind', 'rain'), ('wind', 'sunlight')]\n"
     ]
    }
   ],
   "source": [
    "# Define the structure of the Bayesian Network\n",
    "model = BayesianNetwork([\n",
    "    # ('date', 'temperature'),\n",
    "    # ('date', 'wind'),\n",
    "    # ('date', 'rain'),\n",
    "    # ('date', 'sunlight'),\n",
    "    ('temperature', 'mood'),\n",
    "    ('rain', 'mood'),\n",
    "    ('sunlight', 'mood'),\n",
    "    ('wind', 'mood'),\n",
    "    ('temperature', 'rain'),\n",
    "    ('wind', 'rain'),\n",
    "    ('temperature', 'sunlight'),\n",
    "    ('wind', 'sunlight'),\n",
    "    ('mood', 'walk')\n",
    "])\n",
    "\n",
    "# Print the model to verify the structure\n",
    "print(model.edges())"
   ]
  },
  {
   "cell_type": "markdown",
   "metadata": {},
   "source": [
    "## Visualize the network"
   ]
  },
  {
   "cell_type": "code",
   "execution_count": 13,
   "metadata": {},
   "outputs": [
    {
     "data": {
      "image/png": "[encoded data removed]",
      "text/plain": [
       "<IPython.core.display.Image object>"
      ]
     },
     "execution_count": 13,
     "metadata": {},
     "output_type": "execute_result"
    }
   ],
   "source": [
    "# Save the network as an image\n",
    "model.to_graphviz().draw('./images/model_1_bn.png', prog='dot')\n",
    "\n",
    "# Display the network in the notebook\n",
    "Image(filename='./images/model_1_bn.png')"
   ]
  },
  {
   "cell_type": "markdown",
   "metadata": {},
   "source": [
    "## Train the model"
   ]
  },
  {
   "cell_type": "code",
   "execution_count": 14,
   "metadata": {},
   "outputs": [
    {
     "name": "stdout",
     "output_type": "stream",
     "text": [
      "<class 'pandas.core.frame.DataFrame'>\n",
      "RangeIndex: 425 entries, 0 to 424\n",
      "Data columns (total 9 columns):\n",
      " #   Column       Non-Null Count  Dtype         \n",
      "---  ------       --------------  -----         \n",
      " 0   date         425 non-null    datetime64[ns]\n",
      " 1   temperature  425 non-null    int64         \n",
      " 2   month        425 non-null    object        \n",
      " 3   seasons      425 non-null    object        \n",
      " 4   rain         425 non-null    int64         \n",
      " 5   sunlight     425 non-null    int64         \n",
      " 6   wind         425 non-null    int64         \n",
      " 7   mood         425 non-null    int64         \n",
      " 8   walk         425 non-null    int64         \n",
      "dtypes: datetime64[ns](1), int64(6), object(2)\n",
      "memory usage: 30.0+ KB\n",
      "None\n"
     ]
    }
   ],
   "source": [
    "print(df.info())"
   ]
  },
  {
   "cell_type": "code",
   "execution_count": 15,
   "metadata": {},
   "outputs": [
    {
     "name": "stderr",
     "output_type": "stream",
     "text": [
      "100%|██████████| 411/411 [00:01<00:00, 261.54it/s]\n"
     ]
    },
    {
     "name": "stdout",
     "output_type": "stream",
     "text": [
      "     walk\n",
      "0       0\n",
      "1       0\n",
      "2       0\n",
      "3       1\n",
      "4       0\n",
      "..    ...\n",
      "420     0\n",
      "421     1\n",
      "422     1\n",
      "423     0\n",
      "424     1\n",
      "\n",
      "[425 rows x 1 columns]\n"
     ]
    }
   ],
   "source": [
    "# Train the model using MaximumLikelihoodEstimator\n",
    "model.fit(df.drop(columns=['date', 'month', 'seasons']), estimator=MaximumLikelihoodEstimator)\n",
    "\n",
    "# Predict the 'walk' variable\n",
    "predicted_walk = model.predict(df.drop(columns=['walk', 'date', 'month', 'seasons']))\n",
    "print(predicted_walk)"
   ]
  },
  {
   "cell_type": "code",
   "execution_count": 16,
   "metadata": {},
   "outputs": [
    {
     "data": {
      "text/plain": [
       "True"
      ]
     },
     "execution_count": 16,
     "metadata": {},
     "output_type": "execute_result"
    }
   ],
   "source": [
    "# Check the model for any errors or inconsistencies\n",
    "model.check_model()"
   ]
  },
  {
   "cell_type": "markdown",
   "metadata": {},
   "source": [
    "## Save the model"
   ]
  },
  {
   "cell_type": "code",
   "execution_count": 17,
   "metadata": {},
   "outputs": [
    {
     "name": "stdout",
     "output_type": "stream",
     "text": [
      "Model saved as ./model/bayesian_network_date_date_temperature_temperature_month_month_seasons_seasons_rain_rain_sunlight_sunlight_wind_wind_mood_mood_walk_walk_20250303_135831.bif\n"
     ]
    }
   ],
   "source": [
    "# Create the directory if it doesn't exist\n",
    "if not os.path.exists('./model/'):\n",
    "    os.makedirs('./model/')\n",
    "\n",
    "# Get the current date and time\n",
    "now = datetime.now().strftime('%Y%m%d_%H%M%S')\n",
    "\n",
    "# Define the model columns\n",
    "model_columns = df.columns.tolist()\n",
    "\n",
    "# Define the filename with parameters and date & time\n",
    "model_filename = f\"./model/bayesian_network_{'_'.join([f'{col}_{model_columns[i]}' \n",
    "                                                 for i, col in enumerate(model_columns)])}_{now}.bif\"\n",
    "\n",
    "# Save the model in BIF format\n",
    "model.save(model_filename, filetype='bif')\n",
    "\n",
    "print(f\"Model saved as {model_filename}\")\n"
   ]
  },
  {
   "cell_type": "markdown",
   "metadata": {},
   "source": [
    "# Look at model stats"
   ]
  },
  {
   "cell_type": "markdown",
   "metadata": {},
   "source": [
    "## Accuracy & precision"
   ]
  },
  {
   "cell_type": "code",
   "execution_count": 18,
   "metadata": {},
   "outputs": [
    {
     "name": "stdout",
     "output_type": "stream",
     "text": [
      "Accuracy: 0.7741176470588236\n",
      "Precision: 0.8292682926829268\n",
      "Recall: 0.7906976744186046\n",
      "F1-score: 0.8095238095238095\n"
     ]
    }
   ],
   "source": [
    "# Calculate accuracy\n",
    "accuracy = accuracy_score(df['walk'], predicted_walk['walk'])\n",
    "print(f\"Accuracy: {accuracy}\")\n",
    "\n",
    "# Calculate precision\n",
    "precision = precision_score(df['walk'], predicted_walk['walk'])\n",
    "print(f\"Precision: {precision}\")\n",
    "\n",
    "# Calculate recall\n",
    "recall = recall_score(df['walk'], predicted_walk['walk'])\n",
    "print(f\"Recall: {recall}\")\n",
    "\n",
    "# Calculate F1-score\n",
    "f1 = f1_score(df['walk'], predicted_walk['walk'])\n",
    "print(f\"F1-score: {f1}\")"
   ]
  },
  {
   "cell_type": "code",
   "execution_count": 19,
   "metadata": {},
   "outputs": [
    {
     "name": "stderr",
     "output_type": "stream",
     "text": [
      "C:\\Users\\adhav\\AppData\\Local\\Temp\\ipykernel_1884\\4043196071.py:10: DeprecationWarning: DataFrameGroupBy.apply operated on the grouping columns. This behavior is deprecated, and in a future version of pandas the grouping columns will be excluded from the operation. Either pass `include_groups=False` to exclude the groupings or explicitly select the grouping columns after groupby to silence this warning.\n",
      "  monthly_metrics = df_to_print.groupby('month').apply(lambda x: pd.Series({\n"
     ]
    },
    {
     "data": {
      "image/png": "[encoded data removed]",
      "text/plain": [
       "<Figure size 1500x1000 with 4 Axes>"
      ]
     },
     "metadata": {},
     "output_type": "display_data"
    }
   ],
   "source": [
    "# Add a 'month' column to the dataframe\n",
    "df_to_print = df.copy()\n",
    "\n",
    "# Convert 'date' column to datetime\n",
    "df_to_print['date'] = pd.to_datetime(df_to_print['date'])\n",
    "\n",
    "df_to_print['month'] = df['date'].dt.to_period('M')\n",
    "\n",
    "# Group by month and calculate performance metrics\n",
    "monthly_metrics = df_to_print.groupby('month').apply(lambda x: pd.Series({\n",
    "    'accuracy': accuracy_score(x['walk'].dropna(), predicted_walk.loc[x.index]['walk']),\n",
    "    'precision': precision_score(x['walk'].dropna(), predicted_walk.loc[x.index]['walk']),\n",
    "    'recall': recall_score(x['walk'].dropna(), predicted_walk.loc[x.index]['walk']),\n",
    "    'f1_score': f1_score(x['walk'].dropna(), predicted_walk.loc[x.index]['walk'])\n",
    "}))\n",
    "\n",
    "# Plot the metrics\n",
    "fig, ax = plt.subplots(2, 2, figsize=(15, 10))\n",
    "\n",
    "monthly_metrics['accuracy'].plot(ax=ax[0, 0], title='Accuracy')\n",
    "monthly_metrics['precision'].plot(ax=ax[0, 1], title='Precision')\n",
    "monthly_metrics['recall'].plot(ax=ax[1, 0], title='Recall')\n",
    "monthly_metrics['f1_score'].plot(ax=ax[1, 1], title='F1 Score')\n",
    "\n",
    "plt.tight_layout()\n",
    "plt.show()"
   ]
  },
  {
   "cell_type": "markdown",
   "metadata": {},
   "source": [
    "## Correlation"
   ]
  },
  {
   "cell_type": "markdown",
   "metadata": {},
   "source": [
    "`model` (Instance of pgmpy.base.DAG or pgmpy.models.BayesianNetwork) – The model which needs to be tested.\n",
    "\n",
    "`data` (pandas.DataFrame instance) – The dataset against which to test the model structure.\n",
    "\n",
    "`test` (str or function) – The statistical tests to use for determining whether the variables in data are correlated or not. For discrete variables, the options are: 1) chi_square 2) g_sq 3) log_likelihood 4) freeman_tuckey 5) modified_log_likelihood 6) neyman 7) cressie_read. For continuous variables only one test is available: 1) pearsonr. A function with the signature fun(X, Y, Z, data) can also be passed which returns True for uncorrelated and False otherwise.\n",
    "\n",
    "`significance_level` (float) – A value between 0 and 1. If p_value < significance_level, the variables are considered uncorrelated.\n",
    "\n",
    "`score` (function (default: f1-score)) – Any classification scoring metric from scikit-learn. https://scikit-learn.org/stable/modules/classes.html#classification-metrics"
   ]
  },
  {
   "cell_type": "code",
   "execution_count": 20,
   "metadata": {},
   "outputs": [
    {
     "name": "stderr",
     "output_type": "stream",
     "text": [
      "Generating for node: mood:   0%|          | 0/6 [00:00<?, ?it/s]       WARNING:pgmpy:Probability values don't exactly sum to 1. Differ by: -2.220446049250313e-16. Adjusting values.\n",
      "Generating for node: walk: 100%|██████████| 6/6 [00:00<00:00, 62.37it/s]"
     ]
    },
    {
     "name": "stdout",
     "output_type": "stream",
     "text": [
      "Correlation Score:            var1      var2  stat_test  d_connected\n",
      "0   temperature      mood      False        False\n",
      "1   temperature      rain      False        False\n",
      "2   temperature  sunlight      False        False\n",
      "3   temperature      wind       True         True\n",
      "4   temperature      walk      False        False\n",
      "5          mood      rain      False        False\n",
      "6          mood  sunlight      False        False\n",
      "7          mood      wind      False        False\n",
      "8          mood      walk      False        False\n",
      "9          rain  sunlight      False        False\n",
      "10         rain      wind      False        False\n",
      "11         rain      walk      False        False\n",
      "12     sunlight      wind      False        False\n",
      "13     sunlight      walk      False        False\n",
      "14         wind      walk      False        False\n"
     ]
    },
    {
     "name": "stderr",
     "output_type": "stream",
     "text": [
      "\n"
     ]
    }
   ],
   "source": [
    "data_corr = model.simulate(int(1e4))\n",
    "\n",
    "# Calculate the correlation score\n",
    "correlation = correlation_score(model, data_corr, test='chi_square', significance_level=0.05, return_summary=True)\n",
    "\n",
    "print(f\"Correlation Score: {correlation}\")"
   ]
  },
  {
   "cell_type": "markdown",
   "metadata": {},
   "source": [
    "## Log likelyhood"
   ]
  },
  {
   "cell_type": "markdown",
   "metadata": {},
   "source": [
    "The log-likelihood measure can be used to check how well the specified model describes the data. This method requires the parameters of the model to be specified as well. Direct interpretation of this score is difficult but can be used to compare the fit of two or more models. A higher score means a better fit."
   ]
  },
  {
   "cell_type": "code",
   "execution_count": 21,
   "metadata": {},
   "outputs": [
    {
     "data": {
      "text/plain": [
       "np.float64(-100838.31183950511)"
      ]
     },
     "execution_count": 21,
     "metadata": {},
     "output_type": "execute_result"
    }
   ],
   "source": [
    "log_likelyhood = log_likelihood_score(model, data_corr)\n",
    "log_likelyhood"
   ]
  },
  {
   "cell_type": "markdown",
   "metadata": {},
   "source": [
    "## Get the Conditional Probability Distribution"
   ]
  },
  {
   "cell_type": "code",
   "execution_count": 22,
   "metadata": {},
   "outputs": [
    {
     "name": "stdout",
     "output_type": "stream",
     "text": [
      "[<TabularCPD representing P(temperature:24) at 0x24783592b10>,\n",
      " <TabularCPD representing P(mood:81 | rain:2, sunlight:2, temperature:24, wind:40) at 0x247835929f0>,\n",
      " <TabularCPD representing P(rain:2 | temperature:24, wind:40) at 0x24783592a80>,\n",
      " <TabularCPD representing P(sunlight:2 | temperature:24, wind:40) at 0x24783590ef0>,\n",
      " <TabularCPD representing P(wind:40) at 0x24783590b00>,\n",
      " <TabularCPD representing P(walk:2 | mood:81) at 0x247835934a0>]\n"
     ]
    }
   ],
   "source": [
    "cpds = model.get_cpds()\n",
    "pprint.pp(cpds)"
   ]
  },
  {
   "cell_type": "markdown",
   "metadata": {},
   "source": [
    "use CPDs"
   ]
  },
  {
   "cell_type": "code",
   "execution_count": 23,
   "metadata": {},
   "outputs": [
    {
     "name": "stdout",
     "output_type": "stream",
     "text": [
      "+---------+-------------+\n",
      "| walk    |   phi(walk) |\n",
      "+=========+=============+\n",
      "| walk(0) |      0.6667 |\n",
      "+---------+-------------+\n",
      "| walk(1) |      0.3333 |\n",
      "+---------+-------------+\n"
     ]
    }
   ],
   "source": [
    "# Create an inference object\n",
    "inference = VariableElimination(model)\n",
    "\n",
    "# Perform inference to find the probability of 'walk' given evidence\n",
    "evidence = {'mood': -22, 'rain': 0, 'sunlight': 1, 'temperature': 9, 'wind': 11}\n",
    "result = inference.query(variables=['walk'], evidence=evidence)\n",
    "\n",
    "# Print the result\n",
    "print(result)"
   ]
  },
  {
   "cell_type": "markdown",
   "metadata": {},
   "source": [
    "# Simulate & predict based on new data"
   ]
  },
  {
   "cell_type": "markdown",
   "metadata": {},
   "source": [
    "## load the new data"
   ]
  },
  {
   "cell_type": "code",
   "execution_count": 24,
   "metadata": {
    "vscode": {
     "languageId": "ruby"
    }
   },
   "outputs": [
    {
     "data": {
      "application/vnd.microsoft.datawrangler.viewer.v0+json": {
       "columns": [
        {
         "name": "index",
         "rawType": "int64",
         "type": "integer"
        },
        {
         "name": "date",
         "rawType": "datetime64[ns]",
         "type": "datetime"
        },
        {
         "name": "temperature",
         "rawType": "int64",
         "type": "integer"
        },
        {
         "name": "month",
         "rawType": "object",
         "type": "string"
        },
        {
         "name": "seasons",
         "rawType": "object",
         "type": "string"
        },
        {
         "name": "rain",
         "rawType": "int64",
         "type": "integer"
        },
        {
         "name": "sunlight",
         "rawType": "int64",
         "type": "integer"
        },
        {
         "name": "wind",
         "rawType": "int64",
         "type": "integer"
        },
        {
         "name": "mood",
         "rawType": "int64",
         "type": "integer"
        },
        {
         "name": "walk",
         "rawType": "int64",
         "type": "integer"
        }
       ],
       "conversionMethod": "pd.DataFrame",
       "ref": "387bb30f-fcc1-4ab7-89dd-fdb489fee954",
       "rows": [
        [
         "0",
         "2024-01-01 00:00:00",
         "2",
         "Jan",
         "Winter",
         "1",
         "0",
         "26",
         "-42",
         "0"
        ],
        [
         "1",
         "2024-01-02 00:00:00",
         "0",
         "Jan",
         "Winter",
         "0",
         "1",
         "14",
         "-22",
         "0"
        ],
        [
         "2",
         "2024-01-03 00:00:00",
         "3",
         "Jan",
         "Winter",
         "0",
         "1",
         "12",
         "-13",
         "0"
        ],
        [
         "3",
         "2024-01-04 00:00:00",
         "4",
         "Jan",
         "Winter",
         "0",
         "1",
         "15",
         "-12",
         "0"
        ],
        [
         "4",
         "2024-01-05 00:00:00",
         "2",
         "Jan",
         "Winter",
         "0",
         "1",
         "15",
         "-7",
         "0"
        ]
       ],
       "shape": {
        "columns": 9,
        "rows": 5
       }
      },
      "text/html": [
       "<div>\n",
       "<style scoped>\n",
       "    .dataframe tbody tr th:only-of-type {\n",
       "        vertical-align: middle;\n",
       "    }\n",
       "\n",
       "    .dataframe tbody tr th {\n",
       "        vertical-align: top;\n",
       "    }\n",
       "\n",
       "    .dataframe thead th {\n",
       "        text-align: right;\n",
       "    }\n",
       "</style>\n",
       "<table border=\"1\" class=\"dataframe\">\n",
       "  <thead>\n",
       "    <tr style=\"text-align: right;\">\n",
       "      <th></th>\n",
       "      <th>date</th>\n",
       "      <th>temperature</th>\n",
       "      <th>month</th>\n",
       "      <th>seasons</th>\n",
       "      <th>rain</th>\n",
       "      <th>sunlight</th>\n",
       "      <th>wind</th>\n",
       "      <th>mood</th>\n",
       "      <th>walk</th>\n",
       "    </tr>\n",
       "  </thead>\n",
       "  <tbody>\n",
       "    <tr>\n",
       "      <th>0</th>\n",
       "      <td>2024-01-01</td>\n",
       "      <td>2</td>\n",
       "      <td>Jan</td>\n",
       "      <td>Winter</td>\n",
       "      <td>1</td>\n",
       "      <td>0</td>\n",
       "      <td>26</td>\n",
       "      <td>-42</td>\n",
       "      <td>0</td>\n",
       "    </tr>\n",
       "    <tr>\n",
       "      <th>1</th>\n",
       "      <td>2024-01-02</td>\n",
       "      <td>0</td>\n",
       "      <td>Jan</td>\n",
       "      <td>Winter</td>\n",
       "      <td>0</td>\n",
       "      <td>1</td>\n",
       "      <td>14</td>\n",
       "      <td>-22</td>\n",
       "      <td>0</td>\n",
       "    </tr>\n",
       "    <tr>\n",
       "      <th>2</th>\n",
       "      <td>2024-01-03</td>\n",
       "      <td>3</td>\n",
       "      <td>Jan</td>\n",
       "      <td>Winter</td>\n",
       "      <td>0</td>\n",
       "      <td>1</td>\n",
       "      <td>12</td>\n",
       "      <td>-13</td>\n",
       "      <td>0</td>\n",
       "    </tr>\n",
       "    <tr>\n",
       "      <th>3</th>\n",
       "      <td>2024-01-04</td>\n",
       "      <td>4</td>\n",
       "      <td>Jan</td>\n",
       "      <td>Winter</td>\n",
       "      <td>0</td>\n",
       "      <td>1</td>\n",
       "      <td>15</td>\n",
       "      <td>-12</td>\n",
       "      <td>0</td>\n",
       "    </tr>\n",
       "    <tr>\n",
       "      <th>4</th>\n",
       "      <td>2024-01-05</td>\n",
       "      <td>2</td>\n",
       "      <td>Jan</td>\n",
       "      <td>Winter</td>\n",
       "      <td>0</td>\n",
       "      <td>1</td>\n",
       "      <td>15</td>\n",
       "      <td>-7</td>\n",
       "      <td>0</td>\n",
       "    </tr>\n",
       "  </tbody>\n",
       "</table>\n",
       "</div>"
      ],
      "text/plain": [
       "        date  temperature month seasons  rain  sunlight  wind  mood  walk\n",
       "0 2024-01-01            2   Jan  Winter     1         0    26   -42     0\n",
       "1 2024-01-02            0   Jan  Winter     0         1    14   -22     0\n",
       "2 2024-01-03            3   Jan  Winter     0         1    12   -13     0\n",
       "3 2024-01-04            4   Jan  Winter     0         1    15   -12     0\n",
       "4 2024-01-05            2   Jan  Winter     0         1    15    -7     0"
      ]
     },
     "execution_count": 24,
     "metadata": {},
     "output_type": "execute_result"
    }
   ],
   "source": [
    "# Load the new data\n",
    "df_to_predict = pd.read_csv('./data/to_predict_long.csv')\n",
    "df_to_predict['date'] = pd.to_datetime(df_to_predict['date'])\n",
    "df_to_predict.head()"
   ]
  },
  {
   "cell_type": "markdown",
   "metadata": {},
   "source": [
    "## Use the loaded data to predict"
   ]
  },
  {
   "cell_type": "code",
   "execution_count": 25,
   "metadata": {},
   "outputs": [
    {
     "name": "stderr",
     "output_type": "stream",
     "text": [
      "100%|██████████| 411/411 [00:01<00:00, 260.59it/s]\n"
     ]
    },
    {
     "name": "stdout",
     "output_type": "stream",
     "text": [
      "Accuracy: 0.7719\n",
      "Recall: 0.7873\n",
      "Precision: 0.8178\n",
      "F1 Score: 0.8023\n"
     ]
    }
   ],
   "source": [
    "# Make predictions\n",
    "y_pred = model.predict(df_to_predict.drop(columns=['walk', 'date', 'month', 'seasons']))\n",
    "\n",
    "# Calculate metrics\n",
    "accuracy = accuracy_score(df_to_predict['walk'], y_pred['walk'])\n",
    "recall = recall_score(df_to_predict['walk'], y_pred['walk'], average='binary')  # Change 'binary' to 'macro' or 'micro' if needed\n",
    "precision = precision_score(df_to_predict['walk'], y_pred['walk'], average='binary')\n",
    "f1 = f1_score(df_to_predict['walk'], y_pred['walk'], average='binary')\n",
    "\n",
    "# Print metrics\n",
    "print(f'Accuracy: {accuracy:.4f}')\n",
    "print(f'Recall: {recall:.4f}')\n",
    "print(f'Precision: {precision:.4f}')\n",
    "print(f'F1 Score: {f1:.4f}')"
   ]
  },
  {
   "cell_type": "markdown",
   "metadata": {},
   "source": [
    "## GUI to provide evidence and get probabilities for `walk`"
   ]
  },
  {
   "cell_type": "code",
   "execution_count": null,
   "metadata": {},
   "outputs": [],
   "source": []
  }
 ],
 "metadata": {
  "kernelspec": {
   "display_name": "Python 3",
   "language": "python",
   "name": "python3"
  },
  "language_info": {
   "codemirror_mode": {
    "name": "ipython",
    "version": 3
   },
   "file_extension": ".py",
   "mimetype": "text/x-python",
   "name": "python",
   "nbconvert_exporter": "python",
   "pygments_lexer": "ipython3",
   "version": "3.13.2"
  }
 },
 "nbformat": 4,
 "nbformat_minor": 2
}
