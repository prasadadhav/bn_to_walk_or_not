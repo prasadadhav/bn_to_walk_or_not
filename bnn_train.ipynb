{
 "cells": [
  {
   "cell_type": "markdown",
   "metadata": {},
   "source": [
    "# Load libs"
   ]
  },
  {
   "cell_type": "code",
   "execution_count": 26,
   "metadata": {},
   "outputs": [],
   "source": [
    "import pandas as pd\n",
    "import numpy as np\n",
    "\n",
    "import pygraphviz as pgv\n",
    "from pgmpy.models.BayesianNetwork import BayesianNetwork\n",
    "from pgmpy.estimators import MaximumLikelihoodEstimator\n",
    "from pgmpy.metrics import correlation_score\n",
    "from pgmpy.metrics import log_likelihood_score\n",
    "from pgmpy.inference import VariableElimination\n",
    "from pgmpy.estimators import BayesianEstimator\n",
    "\n",
    "from datetime import datetime\n",
    "\n",
    "from sklearn.metrics import accuracy_score, recall_score, precision_score, f1_score\n",
    "from scipy.stats import chi2_contingency\n",
    "\n",
    "import os\n",
    "import pprint\n",
    "\n",
    "from IPython.display import Image\n",
    "import matplotlib.pyplot as plt\n",
    "\n",
    "import ipywidgets as widgets\n",
    "from IPython.display import display\n",
    "\n",
    "import networkx as nx\n",
    "import matplotlib.pyplot as plt\n",
    "from pgmpy.readwrite import BIFReader\n"
   ]
  },
  {
   "cell_type": "markdown",
   "metadata": {},
   "source": [
    "## Load data"
   ]
  },
  {
   "cell_type": "code",
   "execution_count": 27,
   "metadata": {},
   "outputs": [
    {
     "name": "stdout",
     "output_type": "stream",
     "text": [
      "         date  temperature month seasons  rain  sunlight  wind  mood  walk\n",
      "0  2024-01-01           -7   Jan  Winter     0         1    17    11     1\n",
      "1  2024-01-02           -3   Jan  Winter     0         1    12    17     1\n",
      "2  2024-01-03          -10   Jan  Winter     0         1    12    24     1\n",
      "3  2024-01-04           -7   Jan  Winter     0         1    16    16     1\n",
      "4  2024-01-05           -2   Jan  Winter     1         0    32   -48     0\n"
     ]
    }
   ],
   "source": [
    "df = pd.read_csv('./data/dummy_data.csv')\n",
    "print(df.head())"
   ]
  },
  {
   "cell_type": "markdown",
   "metadata": {},
   "source": [
    "## Convert the date into date, time format"
   ]
  },
  {
   "cell_type": "code",
   "execution_count": 28,
   "metadata": {},
   "outputs": [
    {
     "data": {
      "application/vnd.microsoft.datawrangler.viewer.v0+json": {
       "columns": [
        {
         "name": "index",
         "rawType": "int64",
         "type": "integer"
        },
        {
         "name": "date",
         "rawType": "datetime64[ns]",
         "type": "datetime"
        },
        {
         "name": "temperature",
         "rawType": "int64",
         "type": "integer"
        },
        {
         "name": "month",
         "rawType": "object",
         "type": "string"
        },
        {
         "name": "seasons",
         "rawType": "object",
         "type": "string"
        },
        {
         "name": "rain",
         "rawType": "int64",
         "type": "integer"
        },
        {
         "name": "sunlight",
         "rawType": "int64",
         "type": "integer"
        },
        {
         "name": "wind",
         "rawType": "int64",
         "type": "integer"
        },
        {
         "name": "mood",
         "rawType": "int64",
         "type": "integer"
        },
        {
         "name": "walk",
         "rawType": "int64",
         "type": "integer"
        }
       ],
       "conversionMethod": "pd.DataFrame",
       "ref": "af0ac168-1750-45cf-9c78-ad3429231148",
       "rows": [
        [
         "0",
         "2024-01-01 00:00:00",
         "-7",
         "Jan",
         "Winter",
         "0",
         "1",
         "17",
         "11",
         "1"
        ],
        [
         "1",
         "2024-01-02 00:00:00",
         "-3",
         "Jan",
         "Winter",
         "0",
         "1",
         "12",
         "17",
         "1"
        ],
        [
         "2",
         "2024-01-03 00:00:00",
         "-10",
         "Jan",
         "Winter",
         "0",
         "1",
         "12",
         "24",
         "1"
        ],
        [
         "3",
         "2024-01-04 00:00:00",
         "-7",
         "Jan",
         "Winter",
         "0",
         "1",
         "16",
         "16",
         "1"
        ],
        [
         "4",
         "2024-01-05 00:00:00",
         "-2",
         "Jan",
         "Winter",
         "1",
         "0",
         "32",
         "-48",
         "0"
        ]
       ],
       "shape": {
        "columns": 9,
        "rows": 5
       }
      },
      "text/html": [
       "<div>\n",
       "<style scoped>\n",
       "    .dataframe tbody tr th:only-of-type {\n",
       "        vertical-align: middle;\n",
       "    }\n",
       "\n",
       "    .dataframe tbody tr th {\n",
       "        vertical-align: top;\n",
       "    }\n",
       "\n",
       "    .dataframe thead th {\n",
       "        text-align: right;\n",
       "    }\n",
       "</style>\n",
       "<table border=\"1\" class=\"dataframe\">\n",
       "  <thead>\n",
       "    <tr style=\"text-align: right;\">\n",
       "      <th></th>\n",
       "      <th>date</th>\n",
       "      <th>temperature</th>\n",
       "      <th>month</th>\n",
       "      <th>seasons</th>\n",
       "      <th>rain</th>\n",
       "      <th>sunlight</th>\n",
       "      <th>wind</th>\n",
       "      <th>mood</th>\n",
       "      <th>walk</th>\n",
       "    </tr>\n",
       "  </thead>\n",
       "  <tbody>\n",
       "    <tr>\n",
       "      <th>0</th>\n",
       "      <td>2024-01-01</td>\n",
       "      <td>-7</td>\n",
       "      <td>Jan</td>\n",
       "      <td>Winter</td>\n",
       "      <td>0</td>\n",
       "      <td>1</td>\n",
       "      <td>17</td>\n",
       "      <td>11</td>\n",
       "      <td>1</td>\n",
       "    </tr>\n",
       "    <tr>\n",
       "      <th>1</th>\n",
       "      <td>2024-01-02</td>\n",
       "      <td>-3</td>\n",
       "      <td>Jan</td>\n",
       "      <td>Winter</td>\n",
       "      <td>0</td>\n",
       "      <td>1</td>\n",
       "      <td>12</td>\n",
       "      <td>17</td>\n",
       "      <td>1</td>\n",
       "    </tr>\n",
       "    <tr>\n",
       "      <th>2</th>\n",
       "      <td>2024-01-03</td>\n",
       "      <td>-10</td>\n",
       "      <td>Jan</td>\n",
       "      <td>Winter</td>\n",
       "      <td>0</td>\n",
       "      <td>1</td>\n",
       "      <td>12</td>\n",
       "      <td>24</td>\n",
       "      <td>1</td>\n",
       "    </tr>\n",
       "    <tr>\n",
       "      <th>3</th>\n",
       "      <td>2024-01-04</td>\n",
       "      <td>-7</td>\n",
       "      <td>Jan</td>\n",
       "      <td>Winter</td>\n",
       "      <td>0</td>\n",
       "      <td>1</td>\n",
       "      <td>16</td>\n",
       "      <td>16</td>\n",
       "      <td>1</td>\n",
       "    </tr>\n",
       "    <tr>\n",
       "      <th>4</th>\n",
       "      <td>2024-01-05</td>\n",
       "      <td>-2</td>\n",
       "      <td>Jan</td>\n",
       "      <td>Winter</td>\n",
       "      <td>1</td>\n",
       "      <td>0</td>\n",
       "      <td>32</td>\n",
       "      <td>-48</td>\n",
       "      <td>0</td>\n",
       "    </tr>\n",
       "  </tbody>\n",
       "</table>\n",
       "</div>"
      ],
      "text/plain": [
       "        date  temperature month seasons  rain  sunlight  wind  mood  walk\n",
       "0 2024-01-01           -7   Jan  Winter     0         1    17    11     1\n",
       "1 2024-01-02           -3   Jan  Winter     0         1    12    17     1\n",
       "2 2024-01-03          -10   Jan  Winter     0         1    12    24     1\n",
       "3 2024-01-04           -7   Jan  Winter     0         1    16    16     1\n",
       "4 2024-01-05           -2   Jan  Winter     1         0    32   -48     0"
      ]
     },
     "execution_count": 28,
     "metadata": {},
     "output_type": "execute_result"
    }
   ],
   "source": [
    "# Convert 'date' column to datetime format\n",
    "df['date'] = pd.to_datetime(df['date'])\n",
    "\n",
    "# Print the dataframe to verify the conversion\n",
    "df.head()"
   ]
  },
  {
   "cell_type": "markdown",
   "metadata": {},
   "source": [
    "# BNN"
   ]
  },
  {
   "cell_type": "markdown",
   "metadata": {},
   "source": [
    "## Create Bayesian network"
   ]
  },
  {
   "cell_type": "code",
   "execution_count": 29,
   "metadata": {},
   "outputs": [
    {
     "name": "stdout",
     "output_type": "stream",
     "text": [
      "[('temperature', 'mood'), ('temperature', 'rain'), ('temperature', 'sunlight'), ('mood', 'walk'), ('rain', 'mood'), ('sunlight', 'mood'), ('wind', 'mood'), ('wind', 'rain'), ('wind', 'sunlight')]\n"
     ]
    }
   ],
   "source": [
    "# Define the structure of the Bayesian Network\n",
    "model = BayesianNetwork([\n",
    "    # ('date', 'temperature'),\n",
    "    # ('date', 'wind'),\n",
    "    # ('date', 'rain'),\n",
    "    # ('date', 'sunlight'),\n",
    "    ('temperature', 'mood'),\n",
    "    ('rain', 'mood'),\n",
    "    ('sunlight', 'mood'),\n",
    "    ('wind', 'mood'),\n",
    "    ('temperature', 'rain'),\n",
    "    ('wind', 'rain'),\n",
    "    ('temperature', 'sunlight'),\n",
    "    ('wind', 'sunlight'),\n",
    "    ('mood', 'walk')\n",
    "])\n",
    "\n",
    "# Print the model to verify the structure\n",
    "print(model.edges())"
   ]
  },
  {
   "cell_type": "markdown",
   "metadata": {},
   "source": [
    "## Visualize the network"
   ]
  },
  {
   "cell_type": "code",
   "execution_count": 30,
   "metadata": {},
   "outputs": [
    {
     "data": {
      "image/png": "[encoded data removed]",
      "text/plain": [
       "<IPython.core.display.Image object>"
      ]
     },
     "execution_count": 30,
     "metadata": {},
     "output_type": "execute_result"
    }
   ],
   "source": [
    "# Save the network as an image\n",
    "model.to_graphviz().draw('./images/model_1_bn.png', prog='dot')\n",
    "\n",
    "# Display the network in the notebook\n",
    "Image(filename='./images/model_1_bn.png')"
   ]
  },
  {
   "cell_type": "markdown",
   "metadata": {},
   "source": [
    "## Train the model"
   ]
  },
  {
   "cell_type": "code",
   "execution_count": 31,
   "metadata": {},
   "outputs": [
    {
     "name": "stdout",
     "output_type": "stream",
     "text": [
      "<class 'pandas.core.frame.DataFrame'>\n",
      "RangeIndex: 425 entries, 0 to 424\n",
      "Data columns (total 9 columns):\n",
      " #   Column       Non-Null Count  Dtype         \n",
      "---  ------       --------------  -----         \n",
      " 0   date         425 non-null    datetime64[ns]\n",
      " 1   temperature  425 non-null    int64         \n",
      " 2   month        425 non-null    object        \n",
      " 3   seasons      425 non-null    object        \n",
      " 4   rain         425 non-null    int64         \n",
      " 5   sunlight     425 non-null    int64         \n",
      " 6   wind         425 non-null    int64         \n",
      " 7   mood         425 non-null    int64         \n",
      " 8   walk         425 non-null    int64         \n",
      "dtypes: datetime64[ns](1), int64(6), object(2)\n",
      "memory usage: 30.0+ KB\n",
      "None\n"
     ]
    }
   ],
   "source": [
    "print(df.info())"
   ]
  },
  {
   "cell_type": "code",
   "execution_count": 32,
   "metadata": {},
   "outputs": [
    {
     "data": {
      "application/vnd.jupyter.widget-view+json": {
       "model_id": "8a3cc1e4fb024d579e284c6e08ec3a2f",
       "version_major": 2,
       "version_minor": 0
      },
      "text/plain": [
       "  0%|          | 0/420 [00:00<?, ?it/s]"
      ]
     },
     "metadata": {},
     "output_type": "display_data"
    },
    {
     "name": "stdout",
     "output_type": "stream",
     "text": [
      "     walk\n",
      "0       1\n",
      "1       1\n",
      "2       1\n",
      "3       1\n",
      "4       0\n",
      "..    ...\n",
      "420     0\n",
      "421     1\n",
      "422     1\n",
      "423     1\n",
      "424     1\n",
      "\n",
      "[425 rows x 1 columns]\n"
     ]
    }
   ],
   "source": [
    "# Train the model using MaximumLikelihoodEstimator\n",
    "model.fit(df.drop(columns=['date', 'month', 'seasons']), estimator=MaximumLikelihoodEstimator, state_names={\n",
    "    'temperature': list(range(df['temperature'].min(), df['temperature'].max() + 1)),\n",
    "    'mood': list(range(df['mood'].min(), df['mood'].max() + 1)),\n",
    "    'wind': list(range(df['wind'].min(), df['wind'].max() + 1)),\n",
    "    'rain': [0, 1],\n",
    "    'sunlight': [0, 1]\n",
    "})\n",
    "\n",
    "# Predict the 'walk' variable\n",
    "predicted_walk = model.predict(df.drop(columns=['walk', 'date', 'month', 'seasons']))\n",
    "print(predicted_walk)"
   ]
  },
  {
   "cell_type": "code",
   "execution_count": 33,
   "metadata": {},
   "outputs": [
    {
     "data": {
      "text/plain": [
       "True"
      ]
     },
     "execution_count": 33,
     "metadata": {},
     "output_type": "execute_result"
    }
   ],
   "source": [
    "# Check the model for any errors or inconsistencies\n",
    "model.check_model()"
   ]
  },
  {
   "cell_type": "markdown",
   "metadata": {},
   "source": [
    "## Save the model"
   ]
  },
  {
   "cell_type": "code",
   "execution_count": 34,
   "metadata": {},
   "outputs": [
    {
     "name": "stdout",
     "output_type": "stream",
     "text": [
      "Model saved as ./model/bayesian_network_date_date_temperature_temperature_month_month_seasons_seasons_rain_rain_sunlight_sunlight_wind_wind_mood_mood_walk_walk_20250303_170709.bif\n"
     ]
    }
   ],
   "source": [
    "# Create the directory if it doesn't exist\n",
    "if not os.path.exists('./model/'):\n",
    "    os.makedirs('./model/')\n",
    "\n",
    "# Get the current date and time\n",
    "now = datetime.now().strftime('%Y%m%d_%H%M%S')\n",
    "\n",
    "# Define the model columns\n",
    "model_columns = df.columns.tolist()\n",
    "\n",
    "# Define the filename with parameters and date & time\n",
    "model_filename = f\"./model/bayesian_network_{'_'.join([f'{col}_{model_columns[i]}' \n",
    "                                                 for i, col in enumerate(model_columns)])}_{now}.bif\"\n",
    "\n",
    "# Save the model in BIF format\n",
    "model.save(model_filename, filetype='bif')\n",
    "\n",
    "print(f\"Model saved as {model_filename}\")\n"
   ]
  },
  {
   "cell_type": "markdown",
   "metadata": {},
   "source": [
    "# Look at model stats"
   ]
  },
  {
   "cell_type": "markdown",
   "metadata": {},
   "source": [
    "## Accuracy & precision"
   ]
  },
  {
   "cell_type": "code",
   "execution_count": 35,
   "metadata": {},
   "outputs": [
    {
     "name": "stdout",
     "output_type": "stream",
     "text": [
      "Accuracy: 0.9505882352941176\n",
      "Precision: 0.9825581395348837\n",
      "Recall: 0.9575070821529745\n",
      "F1-score: 0.96987087517934\n"
     ]
    }
   ],
   "source": [
    "# Calculate accuracy\n",
    "accuracy = accuracy_score(df['walk'], predicted_walk['walk'])\n",
    "print(f\"Accuracy: {accuracy}\")\n",
    "\n",
    "# Calculate precision\n",
    "precision = precision_score(df['walk'], predicted_walk['walk'])\n",
    "print(f\"Precision: {precision}\")\n",
    "\n",
    "# Calculate recall\n",
    "recall = recall_score(df['walk'], predicted_walk['walk'])\n",
    "print(f\"Recall: {recall}\")\n",
    "\n",
    "# Calculate F1-score\n",
    "f1 = f1_score(df['walk'], predicted_walk['walk'])\n",
    "print(f\"F1-score: {f1}\")"
   ]
  },
  {
   "cell_type": "code",
   "execution_count": 36,
   "metadata": {},
   "outputs": [
    {
     "name": "stderr",
     "output_type": "stream",
     "text": [
      "C:\\Users\\adhav\\AppData\\Local\\Temp\\ipykernel_14000\\4043196071.py:10: DeprecationWarning: DataFrameGroupBy.apply operated on the grouping columns. This behavior is deprecated, and in a future version of pandas the grouping columns will be excluded from the operation. Either pass `include_groups=False` to exclude the groupings or explicitly select the grouping columns after groupby to silence this warning.\n",
      "  monthly_metrics = df_to_print.groupby('month').apply(lambda x: pd.Series({\n"
     ]
    },
    {
     "data": {
      "image/png": "[encoded data removed]",
      "text/plain": [
       "<Figure size 1500x1000 with 4 Axes>"
      ]
     },
     "metadata": {},
     "output_type": "display_data"
    }
   ],
   "source": [
    "# Add a 'month' column to the dataframe\n",
    "df_to_print = df.copy()\n",
    "\n",
    "# Convert 'date' column to datetime\n",
    "df_to_print['date'] = pd.to_datetime(df_to_print['date'])\n",
    "\n",
    "df_to_print['month'] = df['date'].dt.to_period('M')\n",
    "\n",
    "# Group by month and calculate performance metrics\n",
    "monthly_metrics = df_to_print.groupby('month').apply(lambda x: pd.Series({\n",
    "    'accuracy': accuracy_score(x['walk'].dropna(), predicted_walk.loc[x.index]['walk']),\n",
    "    'precision': precision_score(x['walk'].dropna(), predicted_walk.loc[x.index]['walk']),\n",
    "    'recall': recall_score(x['walk'].dropna(), predicted_walk.loc[x.index]['walk']),\n",
    "    'f1_score': f1_score(x['walk'].dropna(), predicted_walk.loc[x.index]['walk'])\n",
    "}))\n",
    "\n",
    "# Plot the metrics\n",
    "fig, ax = plt.subplots(2, 2, figsize=(15, 10))\n",
    "\n",
    "monthly_metrics['accuracy'].plot(ax=ax[0, 0], title='Accuracy')\n",
    "monthly_metrics['precision'].plot(ax=ax[0, 1], title='Precision')\n",
    "monthly_metrics['recall'].plot(ax=ax[1, 0], title='Recall')\n",
    "monthly_metrics['f1_score'].plot(ax=ax[1, 1], title='F1 Score')\n",
    "\n",
    "plt.tight_layout()\n",
    "plt.show()"
   ]
  },
  {
   "cell_type": "markdown",
   "metadata": {},
   "source": [
    "## Correlation"
   ]
  },
  {
   "cell_type": "markdown",
   "metadata": {},
   "source": [
    "`model` (Instance of pgmpy.base.DAG or pgmpy.models.BayesianNetwork) – The model which needs to be tested.\n",
    "\n",
    "`data` (pandas.DataFrame instance) – The dataset against which to test the model structure.\n",
    "\n",
    "`test` (str or function) – The statistical tests to use for determining whether the variables in data are correlated or not. For discrete variables, the options are: 1) chi_square 2) g_sq 3) log_likelihood 4) freeman_tuckey 5) modified_log_likelihood 6) neyman 7) cressie_read. For continuous variables only one test is available: 1) pearsonr. A function with the signature fun(X, Y, Z, data) can also be passed which returns True for uncorrelated and False otherwise.\n",
    "\n",
    "`significance_level` (float) – A value between 0 and 1. If p_value < significance_level, the variables are considered uncorrelated.\n",
    "\n",
    "`score` (function (default: f1-score)) – Any classification scoring metric from scikit-learn. https://scikit-learn.org/stable/modules/classes.html#classification-metrics"
   ]
  },
  {
   "cell_type": "code",
   "execution_count": 37,
   "metadata": {},
   "outputs": [
    {
     "data": {
      "application/vnd.jupyter.widget-view+json": {
       "model_id": "51616a3d8c014bbd8d99b1f1c773a5ee",
       "version_major": 2,
       "version_minor": 0
      },
      "text/plain": [
       "  0%|          | 0/6 [00:00<?, ?it/s]"
      ]
     },
     "metadata": {},
     "output_type": "display_data"
    },
    {
     "name": "stdout",
     "output_type": "stream",
     "text": [
      "Correlation Score:            var1      var2  stat_test  d_connected\n",
      "0   temperature      mood      False        False\n",
      "1   temperature      rain      False        False\n",
      "2   temperature  sunlight      False        False\n",
      "3   temperature      wind       True         True\n",
      "4   temperature      walk      False        False\n",
      "5          mood      rain      False        False\n",
      "6          mood  sunlight      False        False\n",
      "7          mood      wind      False        False\n",
      "8          mood      walk      False        False\n",
      "9          rain  sunlight      False        False\n",
      "10         rain      wind      False        False\n",
      "11         rain      walk      False        False\n",
      "12     sunlight      wind      False        False\n",
      "13     sunlight      walk      False        False\n",
      "14         wind      walk      False        False\n"
     ]
    }
   ],
   "source": [
    "data_corr = model.simulate(int(1e4))\n",
    "\n",
    "# Calculate the correlation score\n",
    "correlation = correlation_score(model, data_corr, test='chi_square', significance_level=0.05, return_summary=True)\n",
    "\n",
    "print(f\"Correlation Score: {correlation}\")"
   ]
  },
  {
   "cell_type": "markdown",
   "metadata": {},
   "source": [
    "## Log likelyhood"
   ]
  },
  {
   "cell_type": "markdown",
   "metadata": {},
   "source": [
    "The log-likelihood measure can be used to check how well the specified model describes the data. This method requires the parameters of the model to be specified as well. Direct interpretation of this score is difficult but can be used to compare the fit of two or more models. A higher score means a better fit."
   ]
  },
  {
   "cell_type": "code",
   "execution_count": 38,
   "metadata": {},
   "outputs": [
    {
     "data": {
      "text/plain": [
       "np.float64(-119556.97776011046)"
      ]
     },
     "execution_count": 38,
     "metadata": {},
     "output_type": "execute_result"
    }
   ],
   "source": [
    "log_likelyhood = log_likelihood_score(model, data_corr)\n",
    "log_likelyhood"
   ]
  },
  {
   "cell_type": "markdown",
   "metadata": {},
   "source": [
    "## Get the Conditional Probability Distribution"
   ]
  },
  {
   "cell_type": "code",
   "execution_count": 39,
   "metadata": {},
   "outputs": [
    {
     "name": "stdout",
     "output_type": "stream",
     "text": [
      "[<TabularCPD representing P(temperature:46) at 0x187465d2330>,\n",
      " <TabularCPD representing P(mood:117 | rain:2, sunlight:2, temperature:46, wind:41) at 0x187465d2180>,\n",
      " <TabularCPD representing P(rain:2 | temperature:46, wind:41) at 0x187465d0680>,\n",
      " <TabularCPD representing P(sunlight:2 | temperature:46, wind:41) at 0x187465d28d0>,\n",
      " <TabularCPD representing P(wind:41) at 0x187465d2450>,\n",
      " <TabularCPD representing P(walk:2 | mood:117) at 0x187465d23c0>]\n"
     ]
    }
   ],
   "source": [
    "cpds = model.get_cpds()\n",
    "pprint.pp(cpds)"
   ]
  },
  {
   "cell_type": "code",
   "execution_count": 40,
   "metadata": {},
   "outputs": [
    {
     "name": "stdout",
     "output_type": "stream",
     "text": [
      "+------------------+------------+\n",
      "| temperature(-10) | 0.0141176  |\n",
      "+------------------+------------+\n",
      "| temperature(-9)  | 0.00705882 |\n",
      "+------------------+------------+\n",
      "| temperature(-8)  | 0.00705882 |\n",
      "+------------------+------------+\n",
      "| temperature(-7)  | 0.00941176 |\n",
      "+------------------+------------+\n",
      "| temperature(-6)  | 0.00470588 |\n",
      "+------------------+------------+\n",
      "| temperature(-5)  | 0.0235294  |\n",
      "+------------------+------------+\n",
      "| temperature(-4)  | 0.0188235  |\n",
      "+------------------+------------+\n",
      "| temperature(-3)  | 0.0329412  |\n",
      "+------------------+------------+\n",
      "| temperature(-2)  | 0.0376471  |\n",
      "+------------------+------------+\n",
      "| temperature(-1)  | 0.0282353  |\n",
      "+------------------+------------+\n",
      "| temperature(0)   | 0.0258824  |\n",
      "+------------------+------------+\n",
      "| temperature(1)   | 0.0305882  |\n",
      "+------------------+------------+\n",
      "| temperature(2)   | 0.0470588  |\n",
      "+------------------+------------+\n",
      "| temperature(3)   | 0.0376471  |\n",
      "+------------------+------------+\n",
      "| temperature(4)   | 0.0494118  |\n",
      "+------------------+------------+\n",
      "| temperature(5)   | 0.0470588  |\n",
      "+------------------+------------+\n",
      "| temperature(6)   | 0.0305882  |\n",
      "+------------------+------------+\n",
      "| temperature(7)   | 0.0282353  |\n",
      "+------------------+------------+\n",
      "| temperature(8)   | 0.0470588  |\n",
      "+------------------+------------+\n",
      "| temperature(9)   | 0.0541176  |\n",
      "+------------------+------------+\n",
      "| temperature(10)  | 0.0470588  |\n",
      "+------------------+------------+\n",
      "| temperature(11)  | 0.0211765  |\n",
      "+------------------+------------+\n",
      "| temperature(12)  | 0.0141176  |\n",
      "+------------------+------------+\n",
      "| temperature(13)  | 0.0470588  |\n",
      "+------------------+------------+\n",
      "| temperature(14)  | 0.0305882  |\n",
      "+------------------+------------+\n",
      "| temperature(15)  | 0.0188235  |\n",
      "+------------------+------------+\n",
      "| temperature(16)  | 0.0258824  |\n",
      "+------------------+------------+\n",
      "| temperature(17)  | 0.0305882  |\n",
      "+------------------+------------+\n",
      "| temperature(18)  | 0.0258824  |\n",
      "+------------------+------------+\n",
      "| temperature(19)  | 0.0211765  |\n",
      "+------------------+------------+\n",
      "| temperature(20)  | 0.0117647  |\n",
      "+------------------+------------+\n",
      "| temperature(21)  | 0.00705882 |\n",
      "+------------------+------------+\n",
      "| temperature(22)  | 0.0141176  |\n",
      "+------------------+------------+\n",
      "| temperature(23)  | 0.00941176 |\n",
      "+------------------+------------+\n",
      "| temperature(24)  | 0.0211765  |\n",
      "+------------------+------------+\n",
      "| temperature(25)  | 0.00941176 |\n",
      "+------------------+------------+\n",
      "| temperature(26)  | 0.0117647  |\n",
      "+------------------+------------+\n",
      "| temperature(27)  | 0.0188235  |\n",
      "+------------------+------------+\n",
      "| temperature(28)  | 0.00470588 |\n",
      "+------------------+------------+\n",
      "| temperature(29)  | 0.00235294 |\n",
      "+------------------+------------+\n",
      "| temperature(30)  | 0.00470588 |\n",
      "+------------------+------------+\n",
      "| temperature(31)  | 0          |\n",
      "+------------------+------------+\n",
      "| temperature(32)  | 0.00235294 |\n",
      "+------------------+------------+\n",
      "| temperature(33)  | 0.00941176 |\n",
      "+------------------+------------+\n",
      "| temperature(34)  | 0.00705882 |\n",
      "+------------------+------------+\n",
      "| temperature(35)  | 0.00235294 |\n",
      "+------------------+------------+\n",
      "+-------------+-----+----------------------+\n",
      "| rain        | ... | rain(1)              |\n",
      "+-------------+-----+----------------------+\n",
      "| sunlight    | ... | sunlight(1)          |\n",
      "+-------------+-----+----------------------+\n",
      "| temperature | ... | temperature(35)      |\n",
      "+-------------+-----+----------------------+\n",
      "| wind        | ... | wind(40)             |\n",
      "+-------------+-----+----------------------+\n",
      "| mood(-58)   | ... | 0.008547008547008548 |\n",
      "+-------------+-----+----------------------+\n",
      "| mood(-57)   | ... | 0.008547008547008548 |\n",
      "+-------------+-----+----------------------+\n",
      "| mood(-56)   | ... | 0.008547008547008548 |\n",
      "+-------------+-----+----------------------+\n",
      "| mood(-55)   | ... | 0.008547008547008548 |\n",
      "+-------------+-----+----------------------+\n",
      "| mood(-54)   | ... | 0.008547008547008548 |\n",
      "+-------------+-----+----------------------+\n",
      "| mood(-53)   | ... | 0.008547008547008548 |\n",
      "+-------------+-----+----------------------+\n",
      "| mood(-52)   | ... | 0.008547008547008548 |\n",
      "+-------------+-----+----------------------+\n",
      "| mood(-51)   | ... | 0.008547008547008548 |\n",
      "+-------------+-----+----------------------+\n",
      "| mood(-50)   | ... | 0.008547008547008548 |\n",
      "+-------------+-----+----------------------+\n",
      "| mood(-49)   | ... | 0.008547008547008548 |\n",
      "+-------------+-----+----------------------+\n",
      "| mood(-48)   | ... | 0.008547008547008548 |\n",
      "+-------------+-----+----------------------+\n",
      "| mood(-47)   | ... | 0.008547008547008548 |\n",
      "+-------------+-----+----------------------+\n",
      "| mood(-46)   | ... | 0.008547008547008548 |\n",
      "+-------------+-----+----------------------+\n",
      "| mood(-45)   | ... | 0.008547008547008548 |\n",
      "+-------------+-----+----------------------+\n",
      "| mood(-44)   | ... | 0.008547008547008548 |\n",
      "+-------------+-----+----------------------+\n",
      "| mood(-43)   | ... | 0.008547008547008548 |\n",
      "+-------------+-----+----------------------+\n",
      "| mood(-42)   | ... | 0.008547008547008548 |\n",
      "+-------------+-----+----------------------+\n",
      "| mood(-41)   | ... | 0.008547008547008548 |\n",
      "+-------------+-----+----------------------+\n",
      "| mood(-40)   | ... | 0.008547008547008548 |\n",
      "+-------------+-----+----------------------+\n",
      "| mood(-39)   | ... | 0.008547008547008548 |\n",
      "+-------------+-----+----------------------+\n",
      "| mood(-38)   | ... | 0.008547008547008548 |\n",
      "+-------------+-----+----------------------+\n",
      "| mood(-37)   | ... | 0.008547008547008548 |\n",
      "+-------------+-----+----------------------+\n",
      "| mood(-36)   | ... | 0.008547008547008548 |\n",
      "+-------------+-----+----------------------+\n",
      "| mood(-35)   | ... | 0.008547008547008548 |\n",
      "+-------------+-----+----------------------+\n",
      "| mood(-34)   | ... | 0.008547008547008548 |\n",
      "+-------------+-----+----------------------+\n",
      "| mood(-33)   | ... | 0.008547008547008548 |\n",
      "+-------------+-----+----------------------+\n",
      "| mood(-32)   | ... | 0.008547008547008548 |\n",
      "+-------------+-----+----------------------+\n",
      "| mood(-31)   | ... | 0.008547008547008548 |\n",
      "+-------------+-----+----------------------+\n",
      "| mood(-30)   | ... | 0.008547008547008548 |\n",
      "+-------------+-----+----------------------+\n",
      "| mood(-29)   | ... | 0.008547008547008548 |\n",
      "+-------------+-----+----------------------+\n",
      "| mood(-28)   | ... | 0.008547008547008548 |\n",
      "+-------------+-----+----------------------+\n",
      "| mood(-27)   | ... | 0.008547008547008548 |\n",
      "+-------------+-----+----------------------+\n",
      "| mood(-26)   | ... | 0.008547008547008548 |\n",
      "+-------------+-----+----------------------+\n",
      "| mood(-25)   | ... | 0.008547008547008548 |\n",
      "+-------------+-----+----------------------+\n",
      "| mood(-24)   | ... | 0.008547008547008548 |\n",
      "+-------------+-----+----------------------+\n",
      "| mood(-23)   | ... | 0.008547008547008548 |\n",
      "+-------------+-----+----------------------+\n",
      "| mood(-22)   | ... | 0.008547008547008548 |\n",
      "+-------------+-----+----------------------+\n",
      "| mood(-21)   | ... | 0.008547008547008548 |\n",
      "+-------------+-----+----------------------+\n",
      "| mood(-20)   | ... | 0.008547008547008548 |\n",
      "+-------------+-----+----------------------+\n",
      "| mood(-19)   | ... | 0.008547008547008548 |\n",
      "+-------------+-----+----------------------+\n",
      "| mood(-18)   | ... | 0.008547008547008548 |\n",
      "+-------------+-----+----------------------+\n",
      "| mood(-17)   | ... | 0.008547008547008548 |\n",
      "+-------------+-----+----------------------+\n",
      "| mood(-16)   | ... | 0.008547008547008548 |\n",
      "+-------------+-----+----------------------+\n",
      "| mood(-15)   | ... | 0.008547008547008548 |\n",
      "+-------------+-----+----------------------+\n",
      "| mood(-14)   | ... | 0.008547008547008548 |\n",
      "+-------------+-----+----------------------+\n",
      "| mood(-13)   | ... | 0.008547008547008548 |\n",
      "+-------------+-----+----------------------+\n",
      "| mood(-12)   | ... | 0.008547008547008548 |\n",
      "+-------------+-----+----------------------+\n",
      "| mood(-11)   | ... | 0.008547008547008548 |\n",
      "+-------------+-----+----------------------+\n",
      "| mood(-10)   | ... | 0.008547008547008548 |\n",
      "+-------------+-----+----------------------+\n",
      "| mood(-9)    | ... | 0.008547008547008548 |\n",
      "+-------------+-----+----------------------+\n",
      "| mood(-8)    | ... | 0.008547008547008548 |\n",
      "+-------------+-----+----------------------+\n",
      "| mood(-7)    | ... | 0.008547008547008548 |\n",
      "+-------------+-----+----------------------+\n",
      "| mood(-6)    | ... | 0.008547008547008548 |\n",
      "+-------------+-----+----------------------+\n",
      "| mood(-5)    | ... | 0.008547008547008548 |\n",
      "+-------------+-----+----------------------+\n",
      "| mood(-4)    | ... | 0.008547008547008548 |\n",
      "+-------------+-----+----------------------+\n",
      "| mood(-3)    | ... | 0.008547008547008548 |\n",
      "+-------------+-----+----------------------+\n",
      "| mood(-2)    | ... | 0.008547008547008548 |\n",
      "+-------------+-----+----------------------+\n",
      "| mood(-1)    | ... | 0.008547008547008548 |\n",
      "+-------------+-----+----------------------+\n",
      "| mood(0)     | ... | 0.008547008547008548 |\n",
      "+-------------+-----+----------------------+\n",
      "| mood(1)     | ... | 0.008547008547008548 |\n",
      "+-------------+-----+----------------------+\n",
      "| mood(2)     | ... | 0.008547008547008548 |\n",
      "+-------------+-----+----------------------+\n",
      "| mood(3)     | ... | 0.008547008547008548 |\n",
      "+-------------+-----+----------------------+\n",
      "| mood(4)     | ... | 0.008547008547008548 |\n",
      "+-------------+-----+----------------------+\n",
      "| mood(5)     | ... | 0.008547008547008548 |\n",
      "+-------------+-----+----------------------+\n",
      "| mood(6)     | ... | 0.008547008547008548 |\n",
      "+-------------+-----+----------------------+\n",
      "| mood(7)     | ... | 0.008547008547008548 |\n",
      "+-------------+-----+----------------------+\n",
      "| mood(8)     | ... | 0.008547008547008548 |\n",
      "+-------------+-----+----------------------+\n",
      "| mood(9)     | ... | 0.008547008547008548 |\n",
      "+-------------+-----+----------------------+\n",
      "| mood(10)    | ... | 0.008547008547008548 |\n",
      "+-------------+-----+----------------------+\n",
      "| mood(11)    | ... | 0.008547008547008548 |\n",
      "+-------------+-----+----------------------+\n",
      "| mood(12)    | ... | 0.008547008547008548 |\n",
      "+-------------+-----+----------------------+\n",
      "| mood(13)    | ... | 0.008547008547008548 |\n",
      "+-------------+-----+----------------------+\n",
      "| mood(14)    | ... | 0.008547008547008548 |\n",
      "+-------------+-----+----------------------+\n",
      "| mood(15)    | ... | 0.008547008547008548 |\n",
      "+-------------+-----+----------------------+\n",
      "| mood(16)    | ... | 0.008547008547008548 |\n",
      "+-------------+-----+----------------------+\n",
      "| mood(17)    | ... | 0.008547008547008548 |\n",
      "+-------------+-----+----------------------+\n",
      "| mood(18)    | ... | 0.008547008547008548 |\n",
      "+-------------+-----+----------------------+\n",
      "| mood(19)    | ... | 0.008547008547008548 |\n",
      "+-------------+-----+----------------------+\n",
      "| mood(20)    | ... | 0.008547008547008548 |\n",
      "+-------------+-----+----------------------+\n",
      "| mood(21)    | ... | 0.008547008547008548 |\n",
      "+-------------+-----+----------------------+\n",
      "| mood(22)    | ... | 0.008547008547008548 |\n",
      "+-------------+-----+----------------------+\n",
      "| mood(23)    | ... | 0.008547008547008548 |\n",
      "+-------------+-----+----------------------+\n",
      "| mood(24)    | ... | 0.008547008547008548 |\n",
      "+-------------+-----+----------------------+\n",
      "| mood(25)    | ... | 0.008547008547008548 |\n",
      "+-------------+-----+----------------------+\n",
      "| mood(26)    | ... | 0.008547008547008548 |\n",
      "+-------------+-----+----------------------+\n",
      "| mood(27)    | ... | 0.008547008547008548 |\n",
      "+-------------+-----+----------------------+\n",
      "| mood(28)    | ... | 0.008547008547008548 |\n",
      "+-------------+-----+----------------------+\n",
      "| mood(29)    | ... | 0.008547008547008548 |\n",
      "+-------------+-----+----------------------+\n",
      "| mood(30)    | ... | 0.008547008547008548 |\n",
      "+-------------+-----+----------------------+\n",
      "| mood(31)    | ... | 0.008547008547008548 |\n",
      "+-------------+-----+----------------------+\n",
      "| mood(32)    | ... | 0.008547008547008548 |\n",
      "+-------------+-----+----------------------+\n",
      "| mood(33)    | ... | 0.008547008547008548 |\n",
      "+-------------+-----+----------------------+\n",
      "| mood(34)    | ... | 0.008547008547008548 |\n",
      "+-------------+-----+----------------------+\n",
      "| mood(35)    | ... | 0.008547008547008548 |\n",
      "+-------------+-----+----------------------+\n",
      "| mood(36)    | ... | 0.008547008547008548 |\n",
      "+-------------+-----+----------------------+\n",
      "| mood(37)    | ... | 0.008547008547008548 |\n",
      "+-------------+-----+----------------------+\n",
      "| mood(38)    | ... | 0.008547008547008548 |\n",
      "+-------------+-----+----------------------+\n",
      "| mood(39)    | ... | 0.008547008547008548 |\n",
      "+-------------+-----+----------------------+\n",
      "| mood(40)    | ... | 0.008547008547008548 |\n",
      "+-------------+-----+----------------------+\n",
      "| mood(41)    | ... | 0.008547008547008548 |\n",
      "+-------------+-----+----------------------+\n",
      "| mood(42)    | ... | 0.008547008547008548 |\n",
      "+-------------+-----+----------------------+\n",
      "| mood(43)    | ... | 0.008547008547008548 |\n",
      "+-------------+-----+----------------------+\n",
      "| mood(44)    | ... | 0.008547008547008548 |\n",
      "+-------------+-----+----------------------+\n",
      "| mood(45)    | ... | 0.008547008547008548 |\n",
      "+-------------+-----+----------------------+\n",
      "| mood(46)    | ... | 0.008547008547008548 |\n",
      "+-------------+-----+----------------------+\n",
      "| mood(47)    | ... | 0.008547008547008548 |\n",
      "+-------------+-----+----------------------+\n",
      "| mood(48)    | ... | 0.008547008547008548 |\n",
      "+-------------+-----+----------------------+\n",
      "| mood(49)    | ... | 0.008547008547008548 |\n",
      "+-------------+-----+----------------------+\n",
      "| mood(50)    | ... | 0.008547008547008548 |\n",
      "+-------------+-----+----------------------+\n",
      "| mood(51)    | ... | 0.008547008547008548 |\n",
      "+-------------+-----+----------------------+\n",
      "| mood(52)    | ... | 0.008547008547008548 |\n",
      "+-------------+-----+----------------------+\n",
      "| mood(53)    | ... | 0.008547008547008548 |\n",
      "+-------------+-----+----------------------+\n",
      "| mood(54)    | ... | 0.008547008547008548 |\n",
      "+-------------+-----+----------------------+\n",
      "| mood(55)    | ... | 0.008547008547008548 |\n",
      "+-------------+-----+----------------------+\n",
      "| mood(56)    | ... | 0.008547008547008548 |\n",
      "+-------------+-----+----------------------+\n",
      "| mood(57)    | ... | 0.008547008547008548 |\n",
      "+-------------+-----+----------------------+\n",
      "| mood(58)    | ... | 0.008547008547008548 |\n",
      "+-------------+-----+----------------------+\n",
      "+-------------+------------------+-----+-----------------+\n",
      "| temperature | temperature(-10) | ... | temperature(35) |\n",
      "+-------------+------------------+-----+-----------------+\n",
      "| wind        | wind(0)          | ... | wind(40)        |\n",
      "+-------------+------------------+-----+-----------------+\n",
      "| rain(0)     | 0.5              | ... | 0.5             |\n",
      "+-------------+------------------+-----+-----------------+\n",
      "| rain(1)     | 0.5              | ... | 0.5             |\n",
      "+-------------+------------------+-----+-----------------+\n",
      "+-------------+------------------+-----+-----------------+\n",
      "| temperature | temperature(-10) | ... | temperature(35) |\n",
      "+-------------+------------------+-----+-----------------+\n",
      "| wind        | wind(0)          | ... | wind(40)        |\n",
      "+-------------+------------------+-----+-----------------+\n",
      "| sunlight(0) | 0.5              | ... | 0.5             |\n",
      "+-------------+------------------+-----+-----------------+\n",
      "| sunlight(1) | 0.5              | ... | 0.5             |\n",
      "+-------------+------------------+-----+-----------------+\n",
      "+----------+------------+\n",
      "| wind(0)  | 0.00941176 |\n",
      "+----------+------------+\n",
      "| wind(1)  | 0.00705882 |\n",
      "+----------+------------+\n",
      "| wind(2)  | 0.0188235  |\n",
      "+----------+------------+\n",
      "| wind(3)  | 0.0211765  |\n",
      "+----------+------------+\n",
      "| wind(4)  | 0.0470588  |\n",
      "+----------+------------+\n",
      "| wind(5)  | 0.0376471  |\n",
      "+----------+------------+\n",
      "| wind(6)  | 0.0423529  |\n",
      "+----------+------------+\n",
      "| wind(7)  | 0.0282353  |\n",
      "+----------+------------+\n",
      "| wind(8)  | 0.0235294  |\n",
      "+----------+------------+\n",
      "| wind(9)  | 0.0258824  |\n",
      "+----------+------------+\n",
      "| wind(10) | 0.0258824  |\n",
      "+----------+------------+\n",
      "| wind(11) | 0.0188235  |\n",
      "+----------+------------+\n",
      "| wind(12) | 0.04       |\n",
      "+----------+------------+\n",
      "| wind(13) | 0.0494118  |\n",
      "+----------+------------+\n",
      "| wind(14) | 0.0658824  |\n",
      "+----------+------------+\n",
      "| wind(15) | 0.0847059  |\n",
      "+----------+------------+\n",
      "| wind(16) | 0.0541176  |\n",
      "+----------+------------+\n",
      "| wind(17) | 0.0729412  |\n",
      "+----------+------------+\n",
      "| wind(18) | 0.0447059  |\n",
      "+----------+------------+\n",
      "| wind(19) | 0.0376471  |\n",
      "+----------+------------+\n",
      "| wind(20) | 0.0164706  |\n",
      "+----------+------------+\n",
      "| wind(21) | 0.0117647  |\n",
      "+----------+------------+\n",
      "| wind(22) | 0.0141176  |\n",
      "+----------+------------+\n",
      "| wind(23) | 0.00705882 |\n",
      "+----------+------------+\n",
      "| wind(24) | 0.00705882 |\n",
      "+----------+------------+\n",
      "| wind(25) | 0.0141176  |\n",
      "+----------+------------+\n",
      "| wind(26) | 0.0211765  |\n",
      "+----------+------------+\n",
      "| wind(27) | 0.00235294 |\n",
      "+----------+------------+\n",
      "| wind(28) | 0.0188235  |\n",
      "+----------+------------+\n",
      "| wind(29) | 0.0211765  |\n",
      "+----------+------------+\n",
      "| wind(30) | 0.0211765  |\n",
      "+----------+------------+\n",
      "| wind(31) | 0.0211765  |\n",
      "+----------+------------+\n",
      "| wind(32) | 0.00941176 |\n",
      "+----------+------------+\n",
      "| wind(33) | 0.0164706  |\n",
      "+----------+------------+\n",
      "| wind(34) | 0.00470588 |\n",
      "+----------+------------+\n",
      "| wind(35) | 0.0141176  |\n",
      "+----------+------------+\n",
      "| wind(36) | 0.00941176 |\n",
      "+----------+------------+\n",
      "| wind(37) | 0.00470588 |\n",
      "+----------+------------+\n",
      "| wind(38) | 0.00235294 |\n",
      "+----------+------------+\n",
      "| wind(39) | 0.00470588 |\n",
      "+----------+------------+\n",
      "| wind(40) | 0.00235294 |\n",
      "+----------+------------+\n",
      "+---------+-----------+-----------+-----+----------+----------+----------+\n",
      "| mood    | mood(-58) | mood(-57) | ... | mood(56) | mood(57) | mood(58) |\n",
      "+---------+-----------+-----------+-----+----------+----------+----------+\n",
      "| walk(0) | 1.0       | 0.5       | ... | 0.0      | 0.0      | 0.0      |\n",
      "+---------+-----------+-----------+-----+----------+----------+----------+\n",
      "| walk(1) | 0.0       | 0.5       | ... | 1.0      | 1.0      | 1.0      |\n",
      "+---------+-----------+-----------+-----+----------+----------+----------+\n"
     ]
    }
   ],
   "source": [
    "for cpd in model.get_cpds():\n",
    "    print(cpd)"
   ]
  },
  {
   "cell_type": "markdown",
   "metadata": {},
   "source": [
    "use CPDs"
   ]
  },
  {
   "cell_type": "code",
   "execution_count": 41,
   "metadata": {},
   "outputs": [
    {
     "name": "stdout",
     "output_type": "stream",
     "text": [
      "+---------+-------------+\n",
      "| walk    |   phi(walk) |\n",
      "+=========+=============+\n",
      "| walk(0) |      0.6667 |\n",
      "+---------+-------------+\n",
      "| walk(1) |      0.3333 |\n",
      "+---------+-------------+\n"
     ]
    }
   ],
   "source": [
    "# Create an inference object\n",
    "inference = VariableElimination(model)\n",
    "\n",
    "# Perform inference to find the probability of 'walk' given evidence\n",
    "evidence = {'mood': -22, 'rain': 0, 'sunlight': 1, 'temperature': 9, 'wind': 11}\n",
    "result = inference.query(variables=['walk'], evidence=evidence)\n",
    "\n",
    "# Print the result\n",
    "print(result)"
   ]
  },
  {
   "cell_type": "markdown",
   "metadata": {},
   "source": [
    "# Simulate & predict based on new data"
   ]
  },
  {
   "cell_type": "markdown",
   "metadata": {},
   "source": [
    "## load the new data"
   ]
  },
  {
   "cell_type": "code",
   "execution_count": 42,
   "metadata": {
    "vscode": {
     "languageId": "ruby"
    }
   },
   "outputs": [
    {
     "data": {
      "application/vnd.microsoft.datawrangler.viewer.v0+json": {
       "columns": [
        {
         "name": "index",
         "rawType": "int64",
         "type": "integer"
        },
        {
         "name": "date",
         "rawType": "datetime64[ns]",
         "type": "datetime"
        },
        {
         "name": "temperature",
         "rawType": "int64",
         "type": "integer"
        },
        {
         "name": "month",
         "rawType": "object",
         "type": "string"
        },
        {
         "name": "seasons",
         "rawType": "object",
         "type": "string"
        },
        {
         "name": "rain",
         "rawType": "int64",
         "type": "integer"
        },
        {
         "name": "sunlight",
         "rawType": "int64",
         "type": "integer"
        },
        {
         "name": "wind",
         "rawType": "int64",
         "type": "integer"
        },
        {
         "name": "mood",
         "rawType": "int64",
         "type": "integer"
        },
        {
         "name": "walk",
         "rawType": "int64",
         "type": "integer"
        }
       ],
       "conversionMethod": "pd.DataFrame",
       "ref": "1ecd7432-608b-4659-9eb1-8f80edc62f5c",
       "rows": [
        [
         "0",
         "2024-01-01 00:00:00",
         "-7",
         "Jan",
         "Winter",
         "0",
         "1",
         "17",
         "11",
         "1"
        ],
        [
         "1",
         "2024-01-02 00:00:00",
         "-3",
         "Jan",
         "Winter",
         "0",
         "1",
         "12",
         "17",
         "1"
        ],
        [
         "2",
         "2024-01-03 00:00:00",
         "-10",
         "Jan",
         "Winter",
         "0",
         "1",
         "12",
         "24",
         "1"
        ],
        [
         "3",
         "2024-01-04 00:00:00",
         "-7",
         "Jan",
         "Winter",
         "0",
         "1",
         "16",
         "16",
         "1"
        ],
        [
         "4",
         "2024-01-05 00:00:00",
         "-2",
         "Jan",
         "Winter",
         "1",
         "0",
         "32",
         "-48",
         "0"
        ]
       ],
       "shape": {
        "columns": 9,
        "rows": 5
       }
      },
      "text/html": [
       "<div>\n",
       "<style scoped>\n",
       "    .dataframe tbody tr th:only-of-type {\n",
       "        vertical-align: middle;\n",
       "    }\n",
       "\n",
       "    .dataframe tbody tr th {\n",
       "        vertical-align: top;\n",
       "    }\n",
       "\n",
       "    .dataframe thead th {\n",
       "        text-align: right;\n",
       "    }\n",
       "</style>\n",
       "<table border=\"1\" class=\"dataframe\">\n",
       "  <thead>\n",
       "    <tr style=\"text-align: right;\">\n",
       "      <th></th>\n",
       "      <th>date</th>\n",
       "      <th>temperature</th>\n",
       "      <th>month</th>\n",
       "      <th>seasons</th>\n",
       "      <th>rain</th>\n",
       "      <th>sunlight</th>\n",
       "      <th>wind</th>\n",
       "      <th>mood</th>\n",
       "      <th>walk</th>\n",
       "    </tr>\n",
       "  </thead>\n",
       "  <tbody>\n",
       "    <tr>\n",
       "      <th>0</th>\n",
       "      <td>2024-01-01</td>\n",
       "      <td>-7</td>\n",
       "      <td>Jan</td>\n",
       "      <td>Winter</td>\n",
       "      <td>0</td>\n",
       "      <td>1</td>\n",
       "      <td>17</td>\n",
       "      <td>11</td>\n",
       "      <td>1</td>\n",
       "    </tr>\n",
       "    <tr>\n",
       "      <th>1</th>\n",
       "      <td>2024-01-02</td>\n",
       "      <td>-3</td>\n",
       "      <td>Jan</td>\n",
       "      <td>Winter</td>\n",
       "      <td>0</td>\n",
       "      <td>1</td>\n",
       "      <td>12</td>\n",
       "      <td>17</td>\n",
       "      <td>1</td>\n",
       "    </tr>\n",
       "    <tr>\n",
       "      <th>2</th>\n",
       "      <td>2024-01-03</td>\n",
       "      <td>-10</td>\n",
       "      <td>Jan</td>\n",
       "      <td>Winter</td>\n",
       "      <td>0</td>\n",
       "      <td>1</td>\n",
       "      <td>12</td>\n",
       "      <td>24</td>\n",
       "      <td>1</td>\n",
       "    </tr>\n",
       "    <tr>\n",
       "      <th>3</th>\n",
       "      <td>2024-01-04</td>\n",
       "      <td>-7</td>\n",
       "      <td>Jan</td>\n",
       "      <td>Winter</td>\n",
       "      <td>0</td>\n",
       "      <td>1</td>\n",
       "      <td>16</td>\n",
       "      <td>16</td>\n",
       "      <td>1</td>\n",
       "    </tr>\n",
       "    <tr>\n",
       "      <th>4</th>\n",
       "      <td>2024-01-05</td>\n",
       "      <td>-2</td>\n",
       "      <td>Jan</td>\n",
       "      <td>Winter</td>\n",
       "      <td>1</td>\n",
       "      <td>0</td>\n",
       "      <td>32</td>\n",
       "      <td>-48</td>\n",
       "      <td>0</td>\n",
       "    </tr>\n",
       "  </tbody>\n",
       "</table>\n",
       "</div>"
      ],
      "text/plain": [
       "        date  temperature month seasons  rain  sunlight  wind  mood  walk\n",
       "0 2024-01-01           -7   Jan  Winter     0         1    17    11     1\n",
       "1 2024-01-02           -3   Jan  Winter     0         1    12    17     1\n",
       "2 2024-01-03          -10   Jan  Winter     0         1    12    24     1\n",
       "3 2024-01-04           -7   Jan  Winter     0         1    16    16     1\n",
       "4 2024-01-05           -2   Jan  Winter     1         0    32   -48     0"
      ]
     },
     "execution_count": 42,
     "metadata": {},
     "output_type": "execute_result"
    }
   ],
   "source": [
    "# Load the new data\n",
    "df_to_predict = pd.read_csv('./data/to_predict_long.csv')\n",
    "df_to_predict['date'] = pd.to_datetime(df_to_predict['date'])\n",
    "df_to_predict.head()"
   ]
  },
  {
   "cell_type": "markdown",
   "metadata": {},
   "source": [
    "## Use the loaded data to predict"
   ]
  },
  {
   "cell_type": "code",
   "execution_count": 43,
   "metadata": {},
   "outputs": [
    {
     "data": {
      "application/vnd.jupyter.widget-view+json": {
       "model_id": "4f34a876a0d140efb3479ec30b1d598a",
       "version_major": 2,
       "version_minor": 0
      },
      "text/plain": [
       "  0%|          | 0/420 [00:00<?, ?it/s]"
      ]
     },
     "metadata": {},
     "output_type": "display_data"
    },
    {
     "name": "stdout",
     "output_type": "stream",
     "text": [
      "Accuracy: 0.9518\n",
      "Recall: 0.9579\n",
      "Precision: 0.9838\n",
      "F1 Score: 0.9707\n"
     ]
    }
   ],
   "source": [
    "# Make predictions\n",
    "y_pred = model.predict(df_to_predict.drop(columns=['walk', 'date', 'month', 'seasons']))\n",
    "\n",
    "# Calculate metrics\n",
    "accuracy = accuracy_score(df_to_predict['walk'], y_pred['walk'])\n",
    "recall = recall_score(df_to_predict['walk'], y_pred['walk'], average='binary')  # Change 'binary' to 'macro' or 'micro' if needed\n",
    "precision = precision_score(df_to_predict['walk'], y_pred['walk'], average='binary')\n",
    "f1 = f1_score(df_to_predict['walk'], y_pred['walk'], average='binary')\n",
    "\n",
    "# Print metrics\n",
    "print(f'Accuracy: {accuracy:.4f}')\n",
    "print(f'Recall: {recall:.4f}')\n",
    "print(f'Precision: {precision:.4f}')\n",
    "print(f'F1 Score: {f1:.4f}')"
   ]
  },
  {
   "cell_type": "markdown",
   "metadata": {},
   "source": [
    "## GUI to predict `walk`"
   ]
  },
  {
   "cell_type": "code",
   "execution_count": 44,
   "metadata": {},
   "outputs": [
    {
     "data": {
      "application/vnd.jupyter.widget-view+json": {
       "model_id": "44b6f224113748bf81de617c96608093",
       "version_major": 2,
       "version_minor": 0
      },
      "text/plain": [
       "IntSlider(value=0, description='Temperature', max=40, min=-10)"
      ]
     },
     "metadata": {},
     "output_type": "display_data"
    },
    {
     "data": {
      "application/vnd.jupyter.widget-view+json": {
       "model_id": "152a487f24c845db9d19791e64d62a5a",
       "version_major": 2,
       "version_minor": 0
      },
      "text/plain": [
       "IntSlider(value=0, description='Rain', max=1)"
      ]
     },
     "metadata": {},
     "output_type": "display_data"
    },
    {
     "data": {
      "application/vnd.jupyter.widget-view+json": {
       "model_id": "7a2fc29646674a9592c188e554fe8592",
       "version_major": 2,
       "version_minor": 0
      },
      "text/plain": [
       "IntSlider(value=0, description='Sunlight', max=1)"
      ]
     },
     "metadata": {},
     "output_type": "display_data"
    },
    {
     "data": {
      "application/vnd.jupyter.widget-view+json": {
       "model_id": "bf22c46f88204b2988dacdf7395eb1c8",
       "version_major": 2,
       "version_minor": 0
      },
      "text/plain": [
       "IntSlider(value=0, description='Wind', max=50)"
      ]
     },
     "metadata": {},
     "output_type": "display_data"
    },
    {
     "data": {
      "application/vnd.jupyter.widget-view+json": {
       "model_id": "fedfcc8853f44b79a71ee96db2508417",
       "version_major": 2,
       "version_minor": 0
      },
      "text/plain": [
       "Button(description='Predict if I walk', style=ButtonStyle())"
      ]
     },
     "metadata": {},
     "output_type": "display_data"
    },
    {
     "data": {
      "application/vnd.jupyter.widget-view+json": {
       "model_id": "9635dc82bfb14817aaf03129283dd533",
       "version_major": 2,
       "version_minor": 0
      },
      "text/plain": [
       "Output()"
      ]
     },
     "metadata": {},
     "output_type": "display_data"
    }
   ],
   "source": [
    "# Create sliders for the input variables\n",
    "temperature_slider = widgets.IntSlider(min=-10, max=40, step=1, description='Temperature')\n",
    "rain_slider = widgets.IntSlider(min=0, max=1, step=1, description='Rain')\n",
    "sunlight_slider = widgets.IntSlider(min=0, max=1, step=1, description='Sunlight')\n",
    "wind_slider = widgets.IntSlider(min=0, max=50, step=1, description='Wind')\n",
    "mood_slider = widgets.IntSlider(min=-50, max=50, step=1, description='Mood')\n",
    "\n",
    "# Create a button for prediction\n",
    "predict_button = widgets.Button(description='Predict if I walk')\n",
    "\n",
    "# Create an output widget to display the result\n",
    "output = widgets.Output()\n",
    "\n",
    "# Define the function to be called when the button is clicked\n",
    "def predict_walk(b):\n",
    "    # Get the values from the sliders\n",
    "    temperature = temperature_slider.value\n",
    "    rain = rain_slider.value\n",
    "    sunlight = sunlight_slider.value\n",
    "    wind = wind_slider.value\n",
    "    \n",
    "    # Create a new instance of data\n",
    "    new_data = pd.DataFrame([{\n",
    "        'temperature': temperature,\n",
    "        'rain': rain,\n",
    "        'sunlight': sunlight,\n",
    "        'wind': wind\n",
    "    }])\n",
    "    \n",
    "    # Perform inference to predict 'walk'\n",
    "    prediction = model.predict(new_data)\n",
    "    \n",
    "    # Display the result\n",
    "    with output:\n",
    "        output.clear_output()\n",
    "        print(f\"Predicted walk: {prediction['walk'].values[0]}\")\n",
    "\n",
    "# Attach the function to the button\n",
    "predict_button.on_click(predict_walk)\n",
    "\n",
    "# Display the widgets\n",
    "display(temperature_slider, rain_slider, sunlight_slider, wind_slider, predict_button, output)"
   ]
  },
  {
   "cell_type": "markdown",
   "metadata": {},
   "source": [
    "## GUI to do inference to understand context"
   ]
  },
  {
   "cell_type": "code",
   "execution_count": 45,
   "metadata": {},
   "outputs": [
    {
     "name": "stdout",
     "output_type": "stream",
     "text": [
      "[-58, -57, -56, -55, -54, -53, -52, -51, -50, -49, -48, -47, -46, -45, -44, -43, -42, -41, -40, -39, -38, -37, -36, -35, -34, -33, -32, -31, -30, -29, -28, -27, -26, -25, -24, -23, -22, -21, -20, -19, -18, -17, -16, -15, -14, -13, -12, -11, -10, -9, -8, -7, -6, -5, -4, -3, -2, -1, 0, 1, 2, 3, 4, 5, 6, 7, 8, 9, 10, 11, 12, 13, 14, 15, 16, 17, 18, 19, 20, 21, 22, 23, 24, 25, 26, 27, 28, 29, 30, 31, 32, 33, 34, 35, 36, 37, 38, 39, 40, 41, 42, 43, 44, 45, 46, 47, 48, 49, 50, 51, 52, 53, 54, 55, 56, 57, 58]\n",
      "[-10, -9, -8, -7, -6, -5, -4, -3, -2, -1, 0, 1, 2, 3, 4, 5, 6, 7, 8, 9, 10, 11, 12, 13, 14, 15, 16, 17, 18, 19, 20, 21, 22, 23, 24, 25, 26, 27, 28, 29, 30, 31, 32, 33, 34, 35]\n",
      "[0, 1]\n",
      "[0, 1]\n",
      "[0, 1, 2, 3, 4, 5, 6, 7, 8, 9, 10, 11, 12, 13, 14, 15, 16, 17, 18, 19, 20, 21, 22, 23, 24, 25, 26, 27, 28, 29, 30, 31, 32, 33, 34, 35, 36, 37, 38, 39, 40]\n"
     ]
    }
   ],
   "source": [
    "# Print the state names for the 'mood' variable\n",
    "print(model.get_cpds('mood').state_names['mood'])\n",
    "\n",
    "# Print the state names for other variables if needed\n",
    "print(model.get_cpds('temperature').state_names['temperature'])\n",
    "print(model.get_cpds('rain').state_names['rain'])\n",
    "print(model.get_cpds('sunlight').state_names['sunlight'])\n",
    "print(model.get_cpds('wind').state_names['wind'])"
   ]
  },
  {
   "cell_type": "code",
   "execution_count": 46,
   "metadata": {},
   "outputs": [
    {
     "data": {
      "application/vnd.jupyter.widget-view+json": {
       "model_id": "0e0ea87a2ae642348e43aaad0d2ff84e",
       "version_major": 2,
       "version_minor": 0
      },
      "text/plain": [
       "IntSlider(value=0, description='Temperature', max=30, min=-10)"
      ]
     },
     "metadata": {},
     "output_type": "display_data"
    },
    {
     "data": {
      "application/vnd.jupyter.widget-view+json": {
       "model_id": "d21739c3987740feac00833c7f91d881",
       "version_major": 2,
       "version_minor": 0
      },
      "text/plain": [
       "IntSlider(value=0, description='Rain', max=1)"
      ]
     },
     "metadata": {},
     "output_type": "display_data"
    },
    {
     "data": {
      "application/vnd.jupyter.widget-view+json": {
       "model_id": "49ed14cefa264bad8521f62190c2c2ca",
       "version_major": 2,
       "version_minor": 0
      },
      "text/plain": [
       "IntSlider(value=0, description='Sunlight', max=1)"
      ]
     },
     "metadata": {},
     "output_type": "display_data"
    },
    {
     "data": {
      "application/vnd.jupyter.widget-view+json": {
       "model_id": "44f6edd291994830b662e08dad7b707b",
       "version_major": 2,
       "version_minor": 0
      },
      "text/plain": [
       "IntSlider(value=0, description='Wind', max=50)"
      ]
     },
     "metadata": {},
     "output_type": "display_data"
    },
    {
     "data": {
      "application/vnd.jupyter.widget-view+json": {
       "model_id": "aba435ff7d88492ea2ef7a7403575a19",
       "version_major": 2,
       "version_minor": 0
      },
      "text/plain": [
       "IntSlider(value=0, description='Mood', max=50, min=-50)"
      ]
     },
     "metadata": {},
     "output_type": "display_data"
    },
    {
     "data": {
      "application/vnd.jupyter.widget-view+json": {
       "model_id": "d88c35048ac44656b87de183d56df011",
       "version_major": 2,
       "version_minor": 0
      },
      "text/plain": [
       "Button(description='Probability of walking', style=ButtonStyle())"
      ]
     },
     "metadata": {},
     "output_type": "display_data"
    },
    {
     "data": {
      "application/vnd.jupyter.widget-view+json": {
       "model_id": "013ba8362f054f2db0c75c31d3fbc862",
       "version_major": 2,
       "version_minor": 0
      },
      "text/plain": [
       "Output()"
      ]
     },
     "metadata": {},
     "output_type": "display_data"
    }
   ],
   "source": [
    "# Create sliders for the input variables\n",
    "temperature_slider = widgets.IntSlider(min=-10, max=30, step=1, description='Temperature')\n",
    "rain_slider = widgets.IntSlider(min=0, max=1, step=1, description='Rain')\n",
    "sunlight_slider = widgets.IntSlider(min=0, max=1, step=1, description='Sunlight')\n",
    "wind_slider = widgets.IntSlider(min=0, max=50, step=1, description='Wind')\n",
    "mood_slider = widgets.IntSlider(min=-50, max=50, step=1, description='Mood')\n",
    "\n",
    "# Create a button for prediction\n",
    "predict_button = widgets.Button(description='Probability of walking')\n",
    "\n",
    "# Create an output widget to display the result\n",
    "output = widgets.Output()\n",
    "\n",
    "# Define the function to be called when the button is clicked\n",
    "def predict_walk(b):\n",
    "    print(\"Debug Current system time:\", datetime.now())\n",
    "    # Get the values from the sliders\n",
    "    temperature = temperature_slider.value\n",
    "    rain = rain_slider.value\n",
    "    sunlight = sunlight_slider.value\n",
    "    wind = wind_slider.value\n",
    "    mood = mood_slider.value\n",
    "    \n",
    "    # Create evidence dictionary\n",
    "    evidence = {\n",
    "        'temperature': temperature,\n",
    "        'rain': rain,\n",
    "        'sunlight': sunlight,\n",
    "        'wind': wind,\n",
    "        'mood': mood\n",
    "    }\n",
    "    \n",
    "    # Perform inference to predict 'walk'\n",
    "    result = inference.query(variables=['walk'], evidence=evidence)\n",
    "    \n",
    "    # # Display the result\n",
    "    with output:\n",
    "        output.clear_output()\n",
    "        print(f\"Predicted walk probability: {result}\")\n",
    "        print(f\"Temperature: {temperature}, Rain: {rain}, Sunlight: {sunlight}, Wind: {wind}, Mood: {mood}\")\n",
    "\n",
    "# Attach the function to the button\n",
    "predict_button.on_click(predict_walk)\n",
    "\n",
    "# Display the widgets\n",
    "display(temperature_slider, rain_slider, sunlight_slider, wind_slider, mood_slider, predict_button, output)"
   ]
  },
  {
   "cell_type": "code",
   "execution_count": null,
   "metadata": {},
   "outputs": [],
   "source": []
  },
  {
   "cell_type": "markdown",
   "metadata": {},
   "source": [
    "## Visulalize probablilities of `walk` based on input variables"
   ]
  },
  {
   "cell_type": "code",
   "execution_count": 47,
   "metadata": {},
   "outputs": [
    {
     "data": {
      "image/png": "[encoded data removed]",
      "text/plain": [
       "<Figure size 1000x600 with 1 Axes>"
      ]
     },
     "metadata": {},
     "output_type": "display_data"
    }
   ],
   "source": [
    "import seaborn as sns\n",
    "\n",
    "# Create a list to store the probabilities\n",
    "probabilities = []\n",
    "\n",
    "# Vary the mood from -50 to 50\n",
    "for mood in range(-50, 51):\n",
    "    # Create evidence dictionary\n",
    "    evidence = {\n",
    "        'temperature': temperature_slider.value,\n",
    "        'rain': rain_slider.value,\n",
    "        'sunlight': sunlight_slider.value,\n",
    "        'wind': wind_slider.value,\n",
    "        'mood': mood\n",
    "    }\n",
    "    \n",
    "    # Perform inference to predict 'walk'\n",
    "    result = inference.query(variables=['walk'], evidence=evidence)\n",
    "    \n",
    "    # Extract the probability of walk(1)\n",
    "    prob_walk_1 = result.values[1]\n",
    "    \n",
    "    # Append the probability to the list\n",
    "    probabilities.append(prob_walk_1)\n",
    "\n",
    "# Create a DataFrame for visualization\n",
    "df_probabilities = pd.DataFrame({'Mood': range(-50, 51), 'Probability of Walk(1)': probabilities})\n",
    "\n",
    "# Plot the probabilities using seaborn\n",
    "plt.figure(figsize=(10, 6))\n",
    "sns.lineplot(data=df_probabilities, x='Mood', y='Probability of Walk(1)')\n",
    "plt.title('Probability of Walk(1) vs Mood')\n",
    "plt.xlabel('Mood')\n",
    "plt.ylabel('Probability of Walk(1)')\n",
    "plt.show()"
   ]
  },
  {
   "cell_type": "code",
   "execution_count": 50,
   "metadata": {},
   "outputs": [
    {
     "data": {
      "application/vnd.jupyter.widget-view+json": {
       "model_id": "31dc7b8e5bc044599b8a7704972a91c0",
       "version_major": 2,
       "version_minor": 0
      },
      "text/plain": [
       "IntSlider(value=0, description='Temperature', max=30, min=-10)"
      ]
     },
     "metadata": {},
     "output_type": "display_data"
    },
    {
     "data": {
      "application/vnd.jupyter.widget-view+json": {
       "model_id": "ebd3b8971e8546c7bd472836b75807e9",
       "version_major": 2,
       "version_minor": 0
      },
      "text/plain": [
       "IntSlider(value=0, description='Rain', max=1)"
      ]
     },
     "metadata": {},
     "output_type": "display_data"
    },
    {
     "data": {
      "application/vnd.jupyter.widget-view+json": {
       "model_id": "dd54cd92c53549419bca8db85519c578",
       "version_major": 2,
       "version_minor": 0
      },
      "text/plain": [
       "IntSlider(value=0, description='Sunlight', max=1)"
      ]
     },
     "metadata": {},
     "output_type": "display_data"
    },
    {
     "data": {
      "application/vnd.jupyter.widget-view+json": {
       "model_id": "ff05aa4c31bb4da3a41ce88b4e2b91d2",
       "version_major": 2,
       "version_minor": 0
      },
      "text/plain": [
       "IntSlider(value=0, description='Wind', max=50)"
      ]
     },
     "metadata": {},
     "output_type": "display_data"
    },
    {
     "data": {
      "application/vnd.jupyter.widget-view+json": {
       "model_id": "f054ebe34f4940b2a9c0803cc72c1c8d",
       "version_major": 2,
       "version_minor": 0
      },
      "text/plain": [
       "Button(description='Probability of walking', style=ButtonStyle())"
      ]
     },
     "metadata": {},
     "output_type": "display_data"
    },
    {
     "data": {
      "application/vnd.jupyter.widget-view+json": {
       "model_id": "b9a273a03f9d4679a919bb7f6cb16363",
       "version_major": 2,
       "version_minor": 0
      },
      "text/plain": [
       "Output()"
      ]
     },
     "metadata": {},
     "output_type": "display_data"
    },
    {
     "name": "stderr",
     "output_type": "stream",
     "text": [
      "c:\\Users\\adhav\\AppData\\Local\\Programs\\Python\\Python313\\Lib\\site-packages\\pgmpy\\inference\\ExactInference.py:763: SyntaxWarning: invalid escape sequence '\\s'\n",
      "  \"\"\"\n"
     ]
    },
    {
     "ename": "KeyError",
     "evalue": "50",
     "output_type": "error",
     "traceback": [
      "\u001b[1;31m---------------------------------------------------------------------------\u001b[0m",
      "\u001b[1;31mKeyError\u001b[0m                                  Traceback (most recent call last)",
      "Cell \u001b[1;32mIn[50], line 37\u001b[0m, in \u001b[0;36mpredict_walk\u001b[1;34m(b)\u001b[0m\n\u001b[0;32m     29\u001b[0m evidence \u001b[38;5;241m=\u001b[39m {\n\u001b[0;32m     30\u001b[0m     \u001b[38;5;124m'\u001b[39m\u001b[38;5;124mtemperature\u001b[39m\u001b[38;5;124m'\u001b[39m: temperature,\n\u001b[0;32m     31\u001b[0m     \u001b[38;5;124m'\u001b[39m\u001b[38;5;124mrain\u001b[39m\u001b[38;5;124m'\u001b[39m: rain,\n\u001b[0;32m     32\u001b[0m     \u001b[38;5;124m'\u001b[39m\u001b[38;5;124msunlight\u001b[39m\u001b[38;5;124m'\u001b[39m: sunlight,\n\u001b[0;32m     33\u001b[0m     \u001b[38;5;124m'\u001b[39m\u001b[38;5;124mwind\u001b[39m\u001b[38;5;124m'\u001b[39m: wind\n\u001b[0;32m     34\u001b[0m }\n\u001b[0;32m     36\u001b[0m \u001b[38;5;66;03m# Perform inference to predict 'mood'\u001b[39;00m\n\u001b[1;32m---> 37\u001b[0m mood_result \u001b[38;5;241m=\u001b[39m \u001b[43minference\u001b[49m\u001b[38;5;241;43m.\u001b[39;49m\u001b[43mquery\u001b[49m\u001b[43m(\u001b[49m\u001b[43mvariables\u001b[49m\u001b[38;5;241;43m=\u001b[39;49m\u001b[43m[\u001b[49m\u001b[38;5;124;43m'\u001b[39;49m\u001b[38;5;124;43mmood\u001b[39;49m\u001b[38;5;124;43m'\u001b[39;49m\u001b[43m]\u001b[49m\u001b[43m,\u001b[49m\u001b[43m \u001b[49m\u001b[43mevidence\u001b[49m\u001b[38;5;241;43m=\u001b[39;49m\u001b[43mevidence\u001b[49m\u001b[43m)\u001b[49m\n\u001b[0;32m     38\u001b[0m mood \u001b[38;5;241m=\u001b[39m mood_result\u001b[38;5;241m.\u001b[39mvalues\u001b[38;5;241m.\u001b[39margmax()  \u001b[38;5;66;03m# Get the most probable mood state\u001b[39;00m\n\u001b[0;32m     40\u001b[0m \u001b[38;5;66;03m# Update evidence with the predicted mood\u001b[39;00m\n",
      "File \u001b[1;32mc:\\Users\\adhav\\AppData\\Local\\Programs\\Python\\Python313\\Lib\\site-packages\\pgmpy\\inference\\ExactInference.py:339\u001b[0m, in \u001b[0;36mVariableElimination.query\u001b[1;34m(self, variables, evidence, virtual_evidence, elimination_order, joint, show_progress)\u001b[0m\n\u001b[0;32m    337\u001b[0m     indexer \u001b[38;5;241m=\u001b[39m [\u001b[38;5;28mslice\u001b[39m(\u001b[38;5;28;01mNone\u001b[39;00m)] \u001b[38;5;241m*\u001b[39m \u001b[38;5;28mlen\u001b[39m(phi\u001b[38;5;241m.\u001b[39mvariables)\n\u001b[0;32m    338\u001b[0m     \u001b[38;5;28;01mfor\u001b[39;00m index \u001b[38;5;129;01min\u001b[39;00m indexes_to_reduce:\n\u001b[1;32m--> 339\u001b[0m         indexer[index] \u001b[38;5;241m=\u001b[39m \u001b[43mphi\u001b[49m\u001b[38;5;241;43m.\u001b[39;49m\u001b[43mget_state_no\u001b[49m\u001b[43m(\u001b[49m\n\u001b[0;32m    340\u001b[0m \u001b[43m            \u001b[49m\u001b[43mphi\u001b[49m\u001b[38;5;241;43m.\u001b[39;49m\u001b[43mvariables\u001b[49m\u001b[43m[\u001b[49m\u001b[43mindex\u001b[49m\u001b[43m]\u001b[49m\u001b[43m,\u001b[49m\u001b[43m \u001b[49m\u001b[43mevidence\u001b[49m\u001b[43m[\u001b[49m\u001b[43mphi\u001b[49m\u001b[38;5;241;43m.\u001b[39;49m\u001b[43mvariables\u001b[49m\u001b[43m[\u001b[49m\u001b[43mindex\u001b[49m\u001b[43m]\u001b[49m\u001b[43m]\u001b[49m\n\u001b[0;32m    341\u001b[0m \u001b[43m        \u001b[49m\u001b[43m)\u001b[49m\n\u001b[0;32m    342\u001b[0m     reduce_indexes\u001b[38;5;241m.\u001b[39mappend(\u001b[38;5;28mtuple\u001b[39m(indexer))\n\u001b[0;32m    344\u001b[0m \u001b[38;5;66;03m# Step 5.2: Prepare values and index arrays to do use in einsum\u001b[39;00m\n",
      "File \u001b[1;32mc:\\Users\\adhav\\AppData\\Local\\Programs\\Python\\Python313\\Lib\\site-packages\\pgmpy\\utils\\state_name.py:72\u001b[0m, in \u001b[0;36mStateNameMixin.get_state_no\u001b[1;34m(self, var, state_name)\u001b[0m\n\u001b[0;32m     68\u001b[0m \u001b[38;5;250m\u001b[39m\u001b[38;5;124;03m\"\"\"\u001b[39;00m\n\u001b[0;32m     69\u001b[0m \u001b[38;5;124;03mGiven `var` and `state_name` return the state number.\u001b[39;00m\n\u001b[0;32m     70\u001b[0m \u001b[38;5;124;03m\"\"\"\u001b[39;00m\n\u001b[0;32m     71\u001b[0m \u001b[38;5;28;01mif\u001b[39;00m \u001b[38;5;28mself\u001b[39m\u001b[38;5;241m.\u001b[39mstate_names:\n\u001b[1;32m---> 72\u001b[0m     \u001b[38;5;28;01mreturn\u001b[39;00m \u001b[38;5;28;43mself\u001b[39;49m\u001b[38;5;241;43m.\u001b[39;49m\u001b[43mname_to_no\u001b[49m\u001b[43m[\u001b[49m\u001b[43mvar\u001b[49m\u001b[43m]\u001b[49m\u001b[43m[\u001b[49m\u001b[43mstate_name\u001b[49m\u001b[43m]\u001b[49m\n\u001b[0;32m     73\u001b[0m \u001b[38;5;28;01melse\u001b[39;00m:\n\u001b[0;32m     74\u001b[0m     \u001b[38;5;28;01mreturn\u001b[39;00m state_name\n",
      "\u001b[1;31mKeyError\u001b[0m: 50"
     ]
    }
   ],
   "source": [
    "import ipywidgets as widgets\n",
    "from IPython.display import display\n",
    "from pgmpy.inference import VariableElimination\n",
    "\n",
    "# Create sliders for the input variables\n",
    "temperature_slider = widgets.IntSlider(min=-10, max=30, step=1, description='Temperature')\n",
    "rain_slider = widgets.IntSlider(min=0, max=1, step=1, description='Rain')\n",
    "sunlight_slider = widgets.IntSlider(min=0, max=1, step=1, description='Sunlight')\n",
    "wind_slider = widgets.IntSlider(min=0, max=50, step=1, description='Wind')\n",
    "\n",
    "# Create a button for prediction\n",
    "predict_button = widgets.Button(description='Probability of walking')\n",
    "\n",
    "# Create an output widget to display the result\n",
    "output = widgets.Output()\n",
    "\n",
    "# Create an inference object\n",
    "inference = VariableElimination(model)\n",
    "\n",
    "# Define the function to be called when the button is clicked\n",
    "def predict_walk(b):\n",
    "    # Get the values from the sliders\n",
    "    temperature = temperature_slider.value\n",
    "    rain = rain_slider.value\n",
    "    sunlight = sunlight_slider.value\n",
    "    wind = wind_slider.value\n",
    "    \n",
    "    # Create evidence dictionary\n",
    "    evidence = {\n",
    "        'temperature': temperature,\n",
    "        'rain': rain,\n",
    "        'sunlight': sunlight,\n",
    "        'wind': wind\n",
    "    }\n",
    "    \n",
    "    # Perform inference to predict 'mood'\n",
    "    mood_result = inference.query(variables=['mood'], evidence=evidence)\n",
    "    mood = mood_result.values.argmax()  # Get the most probable mood state\n",
    "    \n",
    "    # Update evidence with the predicted mood\n",
    "    evidence['mood'] = mood\n",
    "    \n",
    "    # Perform inference to predict 'walk'\n",
    "    walk_result = inference.query(variables=['walk'], evidence=evidence)\n",
    "    \n",
    "    # Display the result\n",
    "    with output:\n",
    "        output.clear_output()\n",
    "        # print(f\"Predicted walk probability: {mood_result}\")\n",
    "        print(f\"Predicted walk probability: {walk_result}\")\n",
    "        print(f\"Temperature: {temperature}, Rain: {rain}, Sunlight: {sunlight}, Wind: {wind}, Mood: {mood}\")\n",
    "\n",
    "# Attach the function to the button\n",
    "predict_button.on_click(predict_walk)\n",
    "\n",
    "# Display the widgets\n",
    "display(temperature_slider, rain_slider, sunlight_slider, wind_slider, predict_button, output)"
   ]
  },
  {
   "cell_type": "code",
   "execution_count": 49,
   "metadata": {},
   "outputs": [
    {
     "data": {
      "text/plain": [
       "<Figure size 1000x600 with 0 Axes>"
      ]
     },
     "metadata": {},
     "output_type": "display_data"
    },
    {
     "data": {
      "image/png": "[encoded data removed]",
      "text/plain": [
       "<Figure size 500x500 with 1 Axes>"
      ]
     },
     "metadata": {},
     "output_type": "display_data"
    }
   ],
   "source": [
    "import seaborn as sns\n",
    "\n",
    "# Plot the relationship between mood and walk using a linear model\n",
    "plt.figure(figsize=(10, 6))\n",
    "sns.lmplot(x='mood', y='walk', data=df, logistic=True)\n",
    "plt.title('Relationship between Mood and Walk')\n",
    "plt.xlabel('Mood')\n",
    "plt.ylabel('Walk')\n",
    "plt.show()"
   ]
  },
  {
   "cell_type": "markdown",
   "metadata": {},
   "source": [
    "## Sensitivity analysis"
   ]
  }
 ],
 "metadata": {
  "kernelspec": {
   "display_name": "Python 3",
   "language": "python",
   "name": "python3"
  },
  "language_info": {
   "codemirror_mode": {
    "name": "ipython",
    "version": 3
   },
   "file_extension": ".py",
   "mimetype": "text/x-python",
   "name": "python",
   "nbconvert_exporter": "python",
   "pygments_lexer": "ipython3",
   "version": "3.13.2"
  }
 },
 "nbformat": 4,
 "nbformat_minor": 2
}
