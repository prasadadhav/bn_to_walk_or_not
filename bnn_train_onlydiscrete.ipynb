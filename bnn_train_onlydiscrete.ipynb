{
 "cells": [
  {
   "cell_type": "markdown",
   "metadata": {},
   "source": [
    "# Load libs"
   ]
  },
  {
   "cell_type": "code",
   "execution_count": 1,
   "metadata": {},
   "outputs": [],
   "source": [
    "import pandas as pd\n",
    "import numpy as np\n",
    "\n",
    "import pygraphviz as pgv\n",
    "from pgmpy.models.BayesianNetwork import BayesianNetwork\n",
    "from pgmpy.estimators import MaximumLikelihoodEstimator\n",
    "from pgmpy.metrics import correlation_score\n",
    "from pgmpy.metrics import log_likelihood_score\n",
    "from pgmpy.inference import VariableElimination\n",
    "from pgmpy.estimators import BayesianEstimator\n",
    "from pgmpy.factors.discrete import TabularCPD\n",
    "\n",
    "from datetime import datetime\n",
    "\n",
    "from sklearn.metrics import accuracy_score, recall_score, precision_score, f1_score\n",
    "\n",
    "import os\n",
    "import pprint\n",
    "\n",
    "from IPython.display import Image\n",
    "import matplotlib.pyplot as plt\n",
    "\n",
    "\n",
    "import ipywidgets as widgets\n",
    "from IPython.display import display, HTML\n",
    "\n",
    "import networkx as nx\n",
    "from pgmpy.readwrite import BIFReader\n",
    "import seaborn as sns\n",
    "\n",
    "import streamlit as st\n",
    "from pyvis.network import Network"
   ]
  },
  {
   "cell_type": "markdown",
   "metadata": {},
   "source": [
    "# Load data"
   ]
  },
  {
   "cell_type": "code",
   "execution_count": 2,
   "metadata": {},
   "outputs": [
    {
     "name": "stdout",
     "output_type": "stream",
     "text": [
      "         date  temperature month seasons  rain  sunlight  wind  mood  walk  \\\n",
      "0  2020-01-01           -8   Jan  Winter     1         0    53   -50     0   \n",
      "1  2020-01-02            3   Jan  Winter     0         1    18    20     1   \n",
      "2  2020-01-03            3   Jan  Winter     0         1    25   -21     0   \n",
      "3  2020-01-04            2   Jan  Winter     0         1    10     6     1   \n",
      "4  2020-01-05            0   Jan  Winter     0         1    27   -25     0   \n",
      "\n",
      "  temperature_category      wind_category mood_category  \n",
      "0            very cold    6 strong breeze    0 very bad  \n",
      "1                 cold    3 gentle breeze        3 good  \n",
      "2                 cold  4 moderate breeze         1 bad  \n",
      "3                 cold     2 light breeze       2 okish  \n",
      "4            very cold  4 moderate breeze    0 very bad  \n"
     ]
    }
   ],
   "source": [
    "df = pd.read_csv('./data/dummy_data.csv')\n",
    "print(df.head())"
   ]
  },
  {
   "cell_type": "markdown",
   "metadata": {},
   "source": [
    "## Convert the date into date, time format"
   ]
  },
  {
   "cell_type": "code",
   "execution_count": 3,
   "metadata": {},
   "outputs": [
    {
     "data": {
      "application/vnd.microsoft.datawrangler.viewer.v0+json": {
       "columns": [
        {
         "name": "index",
         "rawType": "int64",
         "type": "integer"
        },
        {
         "name": "date",
         "rawType": "datetime64[ns]",
         "type": "datetime"
        },
        {
         "name": "temperature",
         "rawType": "int64",
         "type": "integer"
        },
        {
         "name": "month",
         "rawType": "object",
         "type": "string"
        },
        {
         "name": "seasons",
         "rawType": "object",
         "type": "string"
        },
        {
         "name": "rain",
         "rawType": "int64",
         "type": "integer"
        },
        {
         "name": "sunlight",
         "rawType": "int64",
         "type": "integer"
        },
        {
         "name": "wind",
         "rawType": "int64",
         "type": "integer"
        },
        {
         "name": "mood",
         "rawType": "int64",
         "type": "integer"
        },
        {
         "name": "walk",
         "rawType": "int64",
         "type": "integer"
        },
        {
         "name": "temperature_category",
         "rawType": "object",
         "type": "string"
        },
        {
         "name": "wind_category",
         "rawType": "object",
         "type": "string"
        },
        {
         "name": "mood_category",
         "rawType": "object",
         "type": "string"
        }
       ],
       "conversionMethod": "pd.DataFrame",
       "ref": "57e5bb15-85a0-4f00-babe-310146c32dc7",
       "rows": [
        [
         "0",
         "2020-01-01 00:00:00",
         "-8",
         "Jan",
         "Winter",
         "1",
         "0",
         "53",
         "-50",
         "0",
         "very cold",
         "6 strong breeze",
         "0 very bad"
        ],
        [
         "1",
         "2020-01-02 00:00:00",
         "3",
         "Jan",
         "Winter",
         "0",
         "1",
         "18",
         "20",
         "1",
         "cold",
         "3 gentle breeze",
         "3 good"
        ],
        [
         "2",
         "2020-01-03 00:00:00",
         "3",
         "Jan",
         "Winter",
         "0",
         "1",
         "25",
         "-21",
         "0",
         "cold",
         "4 moderate breeze",
         "1 bad"
        ],
        [
         "3",
         "2020-01-04 00:00:00",
         "2",
         "Jan",
         "Winter",
         "0",
         "1",
         "10",
         "6",
         "1",
         "cold",
         "2 light breeze",
         "2 okish"
        ],
        [
         "4",
         "2020-01-05 00:00:00",
         "0",
         "Jan",
         "Winter",
         "0",
         "1",
         "27",
         "-25",
         "0",
         "very cold",
         "4 moderate breeze",
         "0 very bad"
        ]
       ],
       "shape": {
        "columns": 12,
        "rows": 5
       }
      },
      "text/html": [
       "<div>\n",
       "<style scoped>\n",
       "    .dataframe tbody tr th:only-of-type {\n",
       "        vertical-align: middle;\n",
       "    }\n",
       "\n",
       "    .dataframe tbody tr th {\n",
       "        vertical-align: top;\n",
       "    }\n",
       "\n",
       "    .dataframe thead th {\n",
       "        text-align: right;\n",
       "    }\n",
       "</style>\n",
       "<table border=\"1\" class=\"dataframe\">\n",
       "  <thead>\n",
       "    <tr style=\"text-align: right;\">\n",
       "      <th></th>\n",
       "      <th>date</th>\n",
       "      <th>temperature</th>\n",
       "      <th>month</th>\n",
       "      <th>seasons</th>\n",
       "      <th>rain</th>\n",
       "      <th>sunlight</th>\n",
       "      <th>wind</th>\n",
       "      <th>mood</th>\n",
       "      <th>walk</th>\n",
       "      <th>temperature_category</th>\n",
       "      <th>wind_category</th>\n",
       "      <th>mood_category</th>\n",
       "    </tr>\n",
       "  </thead>\n",
       "  <tbody>\n",
       "    <tr>\n",
       "      <th>0</th>\n",
       "      <td>2020-01-01</td>\n",
       "      <td>-8</td>\n",
       "      <td>Jan</td>\n",
       "      <td>Winter</td>\n",
       "      <td>1</td>\n",
       "      <td>0</td>\n",
       "      <td>53</td>\n",
       "      <td>-50</td>\n",
       "      <td>0</td>\n",
       "      <td>very cold</td>\n",
       "      <td>6 strong breeze</td>\n",
       "      <td>0 very bad</td>\n",
       "    </tr>\n",
       "    <tr>\n",
       "      <th>1</th>\n",
       "      <td>2020-01-02</td>\n",
       "      <td>3</td>\n",
       "      <td>Jan</td>\n",
       "      <td>Winter</td>\n",
       "      <td>0</td>\n",
       "      <td>1</td>\n",
       "      <td>18</td>\n",
       "      <td>20</td>\n",
       "      <td>1</td>\n",
       "      <td>cold</td>\n",
       "      <td>3 gentle breeze</td>\n",
       "      <td>3 good</td>\n",
       "    </tr>\n",
       "    <tr>\n",
       "      <th>2</th>\n",
       "      <td>2020-01-03</td>\n",
       "      <td>3</td>\n",
       "      <td>Jan</td>\n",
       "      <td>Winter</td>\n",
       "      <td>0</td>\n",
       "      <td>1</td>\n",
       "      <td>25</td>\n",
       "      <td>-21</td>\n",
       "      <td>0</td>\n",
       "      <td>cold</td>\n",
       "      <td>4 moderate breeze</td>\n",
       "      <td>1 bad</td>\n",
       "    </tr>\n",
       "    <tr>\n",
       "      <th>3</th>\n",
       "      <td>2020-01-04</td>\n",
       "      <td>2</td>\n",
       "      <td>Jan</td>\n",
       "      <td>Winter</td>\n",
       "      <td>0</td>\n",
       "      <td>1</td>\n",
       "      <td>10</td>\n",
       "      <td>6</td>\n",
       "      <td>1</td>\n",
       "      <td>cold</td>\n",
       "      <td>2 light breeze</td>\n",
       "      <td>2 okish</td>\n",
       "    </tr>\n",
       "    <tr>\n",
       "      <th>4</th>\n",
       "      <td>2020-01-05</td>\n",
       "      <td>0</td>\n",
       "      <td>Jan</td>\n",
       "      <td>Winter</td>\n",
       "      <td>0</td>\n",
       "      <td>1</td>\n",
       "      <td>27</td>\n",
       "      <td>-25</td>\n",
       "      <td>0</td>\n",
       "      <td>very cold</td>\n",
       "      <td>4 moderate breeze</td>\n",
       "      <td>0 very bad</td>\n",
       "    </tr>\n",
       "  </tbody>\n",
       "</table>\n",
       "</div>"
      ],
      "text/plain": [
       "        date  temperature month seasons  rain  sunlight  wind  mood  walk  \\\n",
       "0 2020-01-01           -8   Jan  Winter     1         0    53   -50     0   \n",
       "1 2020-01-02            3   Jan  Winter     0         1    18    20     1   \n",
       "2 2020-01-03            3   Jan  Winter     0         1    25   -21     0   \n",
       "3 2020-01-04            2   Jan  Winter     0         1    10     6     1   \n",
       "4 2020-01-05            0   Jan  Winter     0         1    27   -25     0   \n",
       "\n",
       "  temperature_category      wind_category mood_category  \n",
       "0            very cold    6 strong breeze    0 very bad  \n",
       "1                 cold    3 gentle breeze        3 good  \n",
       "2                 cold  4 moderate breeze         1 bad  \n",
       "3                 cold     2 light breeze       2 okish  \n",
       "4            very cold  4 moderate breeze    0 very bad  "
      ]
     },
     "execution_count": 3,
     "metadata": {},
     "output_type": "execute_result"
    }
   ],
   "source": [
    "# Convert 'date' column to datetime format\n",
    "df['date'] = pd.to_datetime(df['date'])\n",
    "\n",
    "df_to_print = df.copy()\n",
    "\n",
    "# Print the dataframe to verify the conversion\n",
    "df.head()"
   ]
  },
  {
   "cell_type": "markdown",
   "metadata": {},
   "source": [
    "## Drop unecessary columns"
   ]
  },
  {
   "cell_type": "code",
   "execution_count": 4,
   "metadata": {},
   "outputs": [
    {
     "data": {
      "text/plain": [
       "Index(['date', 'temperature', 'month', 'seasons', 'rain', 'sunlight', 'wind',\n",
       "       'mood', 'walk', 'temperature_category', 'wind_category',\n",
       "       'mood_category'],\n",
       "      dtype='object')"
      ]
     },
     "execution_count": 4,
     "metadata": {},
     "output_type": "execute_result"
    }
   ],
   "source": [
    "df.columns"
   ]
  },
  {
   "cell_type": "code",
   "execution_count": 5,
   "metadata": {},
   "outputs": [
    {
     "data": {
      "text/plain": [
       "Index(['date', 'month', 'seasons', 'rain', 'sunlight', 'walk',\n",
       "       'temperature_category', 'wind_category', 'mood_category'],\n",
       "      dtype='object')"
      ]
     },
     "execution_count": 5,
     "metadata": {},
     "output_type": "execute_result"
    }
   ],
   "source": [
    "df = df.drop(columns=['temperature', 'wind', 'mood'])\n",
    "\n",
    "df.columns"
   ]
  },
  {
   "cell_type": "markdown",
   "metadata": {},
   "source": [
    "## Rename column names for ease"
   ]
  },
  {
   "cell_type": "code",
   "execution_count": 6,
   "metadata": {},
   "outputs": [
    {
     "name": "stdout",
     "output_type": "stream",
     "text": [
      "<class 'pandas.core.frame.DataFrame'>\n",
      "RangeIndex: 1886 entries, 0 to 1885\n",
      "Data columns (total 9 columns):\n",
      " #   Column       Non-Null Count  Dtype         \n",
      "---  ------       --------------  -----         \n",
      " 0   date         1886 non-null   datetime64[ns]\n",
      " 1   month        1886 non-null   object        \n",
      " 2   seasons      1886 non-null   object        \n",
      " 3   rain         1886 non-null   int64         \n",
      " 4   sunlight     1886 non-null   int64         \n",
      " 5   walk         1886 non-null   int64         \n",
      " 6   temperature  1886 non-null   object        \n",
      " 7   wind         1886 non-null   object        \n",
      " 8   mood         1886 non-null   object        \n",
      "dtypes: datetime64[ns](1), int64(3), object(5)\n",
      "memory usage: 132.7+ KB\n",
      "None\n"
     ]
    }
   ],
   "source": [
    "df.rename(columns=lambda x: x.replace('_category', ''), inplace=True)\n",
    "print(df.info())"
   ]
  },
  {
   "cell_type": "markdown",
   "metadata": {},
   "source": [
    "## Method to process data"
   ]
  },
  {
   "cell_type": "code",
   "execution_count": 7,
   "metadata": {},
   "outputs": [],
   "source": [
    "def process_new_data(new_df):\n",
    "    new_df = new_df.drop(columns=['temperature', 'wind', 'mood', 'date', 'month'])\n",
    "    new_df.rename(columns=lambda x: x.replace('_category', ''), inplace=True)\n",
    "    new_df = new_df.apply(lambda x: x.astype('category'))\n",
    "    new_df.info()\n",
    "\n",
    "    return new_df"
   ]
  },
  {
   "cell_type": "markdown",
   "metadata": {},
   "source": [
    "# BNN"
   ]
  },
  {
   "cell_type": "markdown",
   "metadata": {},
   "source": [
    "## drop columns not used"
   ]
  },
  {
   "cell_type": "code",
   "execution_count": 8,
   "metadata": {},
   "outputs": [
    {
     "data": {
      "text/plain": [
       "Index(['seasons', 'rain', 'sunlight', 'walk', 'temperature', 'wind', 'mood'], dtype='object')"
      ]
     },
     "execution_count": 8,
     "metadata": {},
     "output_type": "execute_result"
    }
   ],
   "source": [
    "df = df.drop(columns=['date', 'month'])\n",
    "df.columns"
   ]
  },
  {
   "cell_type": "markdown",
   "metadata": {},
   "source": [
    "## Create Bayesian network"
   ]
  },
  {
   "cell_type": "code",
   "execution_count": 9,
   "metadata": {},
   "outputs": [
    {
     "name": "stdout",
     "output_type": "stream",
     "text": [
      "[('seasons', 'temperature'), ('seasons', 'wind'), ('seasons', 'rain'), ('seasons', 'sunlight'), ('temperature', 'walk'), ('temperature', 'rain'), ('temperature', 'sunlight'), ('wind', 'walk'), ('wind', 'rain'), ('wind', 'sunlight'), ('rain', 'mood'), ('sunlight', 'mood'), ('mood', 'walk')]\n"
     ]
    }
   ],
   "source": [
    "# Define the structure of the Bayesian Network\n",
    "model = BayesianNetwork([\n",
    "    ('seasons', 'temperature'),\n",
    "    ('seasons', 'wind'),\n",
    "    ('seasons', 'rain'),\n",
    "    ('seasons', 'sunlight'),\n",
    "    ('temperature', 'walk'),\n",
    "    ('rain', 'mood'),\n",
    "    ('sunlight', 'mood'),\n",
    "    ('wind', 'walk'),\n",
    "    ('temperature', 'rain'),\n",
    "    ('wind', 'rain'),\n",
    "    ('temperature', 'sunlight'),\n",
    "    ('wind', 'sunlight'),\n",
    "    ('mood', 'walk')\n",
    "])\n",
    "\n",
    "# Print the model to verify the structure\n",
    "print(model.edges())"
   ]
  },
  {
   "cell_type": "markdown",
   "metadata": {},
   "source": [
    "## Visualize the network"
   ]
  },
  {
   "cell_type": "code",
   "execution_count": 10,
   "metadata": {},
   "outputs": [
    {
     "data": {
      "image/png": "[encoded data removed]",
      "text/plain": [
       "<IPython.core.display.Image object>"
      ]
     },
     "execution_count": 10,
     "metadata": {},
     "output_type": "execute_result"
    }
   ],
   "source": [
    "# Save the network as an image\n",
    "model.to_graphviz().draw('./images/model_1_bn.png', prog='dot')\n",
    "\n",
    "# Display the network in the notebook\n",
    "Image(filename='./images/model_1_bn.png')"
   ]
  },
  {
   "cell_type": "markdown",
   "metadata": {},
   "source": [
    "## Train the model"
   ]
  },
  {
   "cell_type": "code",
   "execution_count": 11,
   "metadata": {},
   "outputs": [
    {
     "name": "stdout",
     "output_type": "stream",
     "text": [
      "seasons        object\n",
      "rain            int64\n",
      "sunlight        int64\n",
      "walk            int64\n",
      "temperature    object\n",
      "wind           object\n",
      "mood           object\n",
      "dtype: object\n"
     ]
    }
   ],
   "source": [
    "print(df.dtypes)"
   ]
  },
  {
   "cell_type": "code",
   "execution_count": 12,
   "metadata": {},
   "outputs": [
    {
     "name": "stdout",
     "output_type": "stream",
     "text": [
      "seasons        category\n",
      "rain           category\n",
      "sunlight       category\n",
      "walk           category\n",
      "temperature    category\n",
      "wind           category\n",
      "mood           category\n",
      "dtype: object\n"
     ]
    }
   ],
   "source": [
    "# Convert all columns to categorical type\n",
    "df = df.apply(lambda x: x.astype('category'))\n",
    "\n",
    "# Print the dataframe to verify the conversion\n",
    "print(df.dtypes)"
   ]
  },
  {
   "cell_type": "code",
   "execution_count": 13,
   "metadata": {},
   "outputs": [
    {
     "name": "stdout",
     "output_type": "stream",
     "text": [
      "       seasons  rain  sunlight  walk temperature               wind    mood\n",
      "count     1886  1886      1886  1886        1886               1886    1886\n",
      "unique       4     2         2     2           4                  7       5\n",
      "top     Winter     0         1     1        cold  4 moderate breeze  3 good\n",
      "freq       511  1781      1781  1511         768                423     551\n"
     ]
    }
   ],
   "source": [
    "print(df.describe())"
   ]
  },
  {
   "cell_type": "code",
   "execution_count": 14,
   "metadata": {},
   "outputs": [
    {
     "name": "stdout",
     "output_type": "stream",
     "text": [
      "Categories of seasons: ['Winter', 'Spring', 'Summer', 'Autumn']\n",
      "Categories (4, object): ['Autumn', 'Spring', 'Summer', 'Winter']\n",
      "Number of categories: 4\n"
     ]
    }
   ],
   "source": [
    "seasons_categories = df['seasons'].unique()\n",
    "print(f\"Categories of seasons: {seasons_categories}\")\n",
    "print(f\"Number of categories: {len(seasons_categories)}\")"
   ]
  },
  {
   "cell_type": "code",
   "execution_count": 15,
   "metadata": {},
   "outputs": [
    {
     "data": {
      "application/vnd.jupyter.widget-view+json": {
       "model_id": "ac7c62fb51144b1aa087e038b5da5212",
       "version_major": 2,
       "version_minor": 0
      },
      "text/plain": [
       "  0%|          | 0/111 [00:00<?, ?it/s]"
      ]
     },
     "metadata": {},
     "output_type": "display_data"
    },
    {
     "name": "stdout",
     "output_type": "stream",
     "text": [
      "      walk\n",
      "0        0\n",
      "1        1\n",
      "2        1\n",
      "3        1\n",
      "4        0\n",
      "...    ...\n",
      "1881     1\n",
      "1882     1\n",
      "1883     0\n",
      "1884     0\n",
      "1885     1\n",
      "\n",
      "[1886 rows x 1 columns]\n"
     ]
    }
   ],
   "source": [
    "# Train the model using Maximum Likelihood Estimation\n",
    "model.fit(df, estimator=MaximumLikelihoodEstimator)\n",
    "\n",
    "# Predict the 'walk' variable\n",
    "predicted_walk = model.predict(df.drop(columns=['walk']))\n",
    "print(predicted_walk)"
   ]
  },
  {
   "cell_type": "code",
   "execution_count": 16,
   "metadata": {},
   "outputs": [
    {
     "data": {
      "text/plain": [
       "True"
      ]
     },
     "execution_count": 16,
     "metadata": {},
     "output_type": "execute_result"
    }
   ],
   "source": [
    "# Check the model for any errors or inconsistencies\n",
    "model.check_model()"
   ]
  },
  {
   "cell_type": "markdown",
   "metadata": {},
   "source": [
    "## Save the model"
   ]
  },
  {
   "cell_type": "code",
   "execution_count": 17,
   "metadata": {},
   "outputs": [
    {
     "name": "stdout",
     "output_type": "stream",
     "text": [
      "Model saved as ./model/bayesian_network_seasons_seasons_rain_rain_sunlight_sunlight_walk_walk_temperature_temperature_wind_wind_mood_mood_20250319_075049.bif\n"
     ]
    }
   ],
   "source": [
    "# Create the directory if it doesn't exist\n",
    "if not os.path.exists('./model/'):\n",
    "    os.makedirs('./model/')\n",
    "\n",
    "# Get the current date and time\n",
    "now = datetime.now().strftime('%Y%m%d_%H%M%S')\n",
    "\n",
    "# Define the model columns\n",
    "model_columns = df.columns.tolist()\n",
    "\n",
    "# Define the filename with parameters and date & time\n",
    "model_filename = f\"./model/bayesian_network_{'_'.join([f'{col}_{model_columns[i]}' \n",
    "                                                 for i, col in enumerate(model_columns)])}_{now}.bif\"\n",
    "\n",
    "# Save the model in BIF format\n",
    "model.save(model_filename, filetype='bif')\n",
    "\n",
    "print(f\"Model saved as {model_filename}\")\n"
   ]
  },
  {
   "cell_type": "markdown",
   "metadata": {},
   "source": [
    "# Look at model stats"
   ]
  },
  {
   "cell_type": "markdown",
   "metadata": {},
   "source": [
    "## Accuracy & precision"
   ]
  },
  {
   "cell_type": "code",
   "execution_count": 18,
   "metadata": {},
   "outputs": [
    {
     "name": "stdout",
     "output_type": "stream",
     "text": [
      "Accuracy: 0.8340402969247084\n",
      "Precision: 0.8795944233206591\n",
      "Recall: 0.9185969556585043\n",
      "F1-score: 0.8986727096147621\n"
     ]
    }
   ],
   "source": [
    "# Calculate accuracy\n",
    "accuracy = accuracy_score(df['walk'], predicted_walk['walk'])\n",
    "print(f\"Accuracy: {accuracy}\")\n",
    "\n",
    "# Calculate precision\n",
    "precision = precision_score(df['walk'], predicted_walk['walk'])\n",
    "print(f\"Precision: {precision}\")\n",
    "\n",
    "# Calculate recall\n",
    "recall = recall_score(df['walk'], predicted_walk['walk'])\n",
    "print(f\"Recall: {recall}\")\n",
    "\n",
    "# Calculate F1-score\n",
    "f1 = f1_score(df['walk'], predicted_walk['walk'])\n",
    "print(f\"F1-score: {f1}\")"
   ]
  },
  {
   "cell_type": "code",
   "execution_count": 19,
   "metadata": {},
   "outputs": [
    {
     "name": "stderr",
     "output_type": "stream",
     "text": [
      "C:\\Users\\adhav\\AppData\\Local\\Temp\\ipykernel_21840\\3196308790.py:2: DeprecationWarning: DataFrameGroupBy.apply operated on the grouping columns. This behavior is deprecated, and in a future version of pandas the grouping columns will be excluded from the operation. Either pass `include_groups=False` to exclude the groupings or explicitly select the grouping columns after groupby to silence this warning.\n",
      "  monthly_metrics = df_to_print.groupby('month').apply(lambda x: pd.Series({\n"
     ]
    },
    {
     "data": {
      "image/png": "[encoded data removed]",
      "text/plain": [
       "<Figure size 1500x1000 with 4 Axes>"
      ]
     },
     "metadata": {},
     "output_type": "display_data"
    }
   ],
   "source": [
    "# Group by month and calculate performance metrics\n",
    "monthly_metrics = df_to_print.groupby('month').apply(lambda x: pd.Series({\n",
    "    'accuracy': accuracy_score(x['walk'].dropna(), predicted_walk.loc[x.index]['walk']),\n",
    "    'precision': precision_score(x['walk'].dropna(), predicted_walk.loc[x.index]['walk']),\n",
    "    'recall': recall_score(x['walk'].dropna(), predicted_walk.loc[x.index]['walk']),\n",
    "    'f1_score': f1_score(x['walk'].dropna(), predicted_walk.loc[x.index]['walk'])\n",
    "}))\n",
    "\n",
    "# Plot the metrics\n",
    "fig, ax = plt.subplots(2, 2, figsize=(15, 10))\n",
    "\n",
    "monthly_metrics['accuracy'].plot(ax=ax[0, 0], title='Accuracy')\n",
    "monthly_metrics['precision'].plot(ax=ax[0, 1], title='Precision')\n",
    "monthly_metrics['recall'].plot(ax=ax[1, 0], title='Recall')\n",
    "monthly_metrics['f1_score'].plot(ax=ax[1, 1], title='F1 Score')\n",
    "\n",
    "plt.tight_layout()\n",
    "plt.savefig('./images/pred_walk_months.png')\n",
    "plt.show()"
   ]
  },
  {
   "cell_type": "markdown",
   "metadata": {},
   "source": [
    "## Correlation"
   ]
  },
  {
   "cell_type": "markdown",
   "metadata": {},
   "source": [
    "`model` (Instance of pgmpy.base.DAG or pgmpy.models.BayesianNetwork) – The model which needs to be tested.\n",
    "\n",
    "`data` (pandas.DataFrame instance) – The dataset against which to test the model structure.\n",
    "\n",
    "`test` (str or function) – The statistical tests to use for determining whether the variables in data are correlated or not. For discrete variables, the options are: 1) chi_square 2) g_sq 3) log_likelihood 4) freeman_tuckey 5) modified_log_likelihood 6) neyman 7) cressie_read. For continuous variables only one test is available: 1) pearsonr. A function with the signature fun(X, Y, Z, data) can also be passed which returns True for uncorrelated and False otherwise.\n",
    "\n",
    "`significance_level` (float) – A value between 0 and 1. If p_value < significance_level, the variables are considered uncorrelated.\n",
    "\n",
    "`score` (function (default: f1-score)) – Any classification scoring metric from scikit-learn. https://scikit-learn.org/stable/modules/classes.html#classification-metrics"
   ]
  },
  {
   "cell_type": "code",
   "execution_count": 20,
   "metadata": {},
   "outputs": [
    {
     "data": {
      "application/vnd.jupyter.widget-view+json": {
       "model_id": "b1b3fd19a07b410f90e4adc3158e1e45",
       "version_major": 2,
       "version_minor": 0
      },
      "text/plain": [
       "  0%|          | 0/7 [00:00<?, ?it/s]"
      ]
     },
     "metadata": {},
     "output_type": "display_data"
    },
    {
     "name": "stderr",
     "output_type": "stream",
     "text": [
      "WARNING:pgmpy:Probability values don't exactly sum to 1. Differ by: -2.220446049250313e-16. Adjusting values.\n"
     ]
    },
    {
     "name": "stdout",
     "output_type": "stream",
     "text": [
      "Correlation Score:            var1         var2  stat_test  d_connected\n",
      "0       seasons  temperature      False        False\n",
      "1       seasons         wind      False        False\n",
      "2       seasons         rain      False        False\n",
      "3       seasons     sunlight      False        False\n",
      "4       seasons         walk      False        False\n",
      "5       seasons         mood      False        False\n",
      "6   temperature         wind      False        False\n",
      "7   temperature         rain      False        False\n",
      "8   temperature     sunlight      False        False\n",
      "9   temperature         walk      False        False\n",
      "10  temperature         mood      False        False\n",
      "11         wind         rain      False        False\n",
      "12         wind     sunlight      False        False\n",
      "13         wind         walk      False        False\n",
      "14         wind         mood      False        False\n",
      "15         rain     sunlight      False        False\n",
      "16         rain         walk      False        False\n",
      "17         rain         mood      False        False\n",
      "18     sunlight         walk      False        False\n",
      "19     sunlight         mood      False        False\n",
      "20         walk         mood      False        False\n"
     ]
    },
    {
     "name": "stderr",
     "output_type": "stream",
     "text": [
      "c:\\Users\\adhav\\AppData\\Local\\Programs\\Python\\Python313\\Lib\\site-packages\\sklearn\\metrics\\_classification.py:1565: UndefinedMetricWarning: F-score is ill-defined and being set to 0.0 due to no true nor predicted samples. Use `zero_division` parameter to control this behavior.\n",
      "  _warn_prf(average, modifier, f\"{metric.capitalize()} is\", len(result))\n"
     ]
    }
   ],
   "source": [
    "data_corr = model.simulate(int(1e4))\n",
    "\n",
    "# Calculate the correlation score\n",
    "correlation = correlation_score(model, data_corr, test='chi_square', significance_level=0.05, return_summary=True)\n",
    "\n",
    "print(f\"Correlation Score: {correlation}\")"
   ]
  },
  {
   "cell_type": "markdown",
   "metadata": {},
   "source": [
    "## Log likelyhood"
   ]
  },
  {
   "cell_type": "markdown",
   "metadata": {},
   "source": [
    "The log-likelihood measure can be used to check how well the specified model describes the data. This method requires the parameters of the model to be specified as well. Direct interpretation of this score is difficult but can be used to compare the fit of two or more models. A higher score means a better fit."
   ]
  },
  {
   "cell_type": "code",
   "execution_count": 21,
   "metadata": {},
   "outputs": [
    {
     "data": {
      "text/plain": [
       "np.float64(-10166.550301499261)"
      ]
     },
     "execution_count": 21,
     "metadata": {},
     "output_type": "execute_result"
    }
   ],
   "source": [
    "log_likelyhood = log_likelihood_score(model, df)\n",
    "log_likelyhood"
   ]
  },
  {
   "cell_type": "markdown",
   "metadata": {},
   "source": [
    "## Get the Conditional Probability Distribution"
   ]
  },
  {
   "cell_type": "code",
   "execution_count": 22,
   "metadata": {},
   "outputs": [
    {
     "name": "stdout",
     "output_type": "stream",
     "text": [
      "[<TabularCPD representing P(seasons:4) at 0x1e050349bf0>,\n",
      " <TabularCPD representing P(temperature:4 | seasons:4) at 0x1e050387050>,\n",
      " <TabularCPD representing P(wind:7 | seasons:4) at 0x1e050387150>,\n",
      " <TabularCPD representing P(rain:2 | seasons:4, temperature:4, wind:7) at 0x1e050a548c0>,\n",
      " <TabularCPD representing P(sunlight:2 | seasons:4, temperature:4, wind:7) at 0x1e050a54c80>,\n",
      " <TabularCPD representing P(walk:2 | mood:5, temperature:4, wind:7) at 0x1e05038b070>,\n",
      " <TabularCPD representing P(mood:5 | rain:2, sunlight:2) at 0x1e05038b230>]\n"
     ]
    }
   ],
   "source": [
    "cpds = model.get_cpds()\n",
    "pprint.pp(cpds)"
   ]
  },
  {
   "cell_type": "code",
   "execution_count": 23,
   "metadata": {},
   "outputs": [
    {
     "name": "stdout",
     "output_type": "stream",
     "text": [
      "Saved CPD 0 to ./cpds/cpd_0.csv\n",
      "Saved CPD 1 to ./cpds/cpd_1.csv\n",
      "Saved CPD 2 to ./cpds/cpd_2.csv\n",
      "Saved CPD 3 to ./cpds/cpd_3.csv\n",
      "Saved CPD 4 to ./cpds/cpd_4.csv\n",
      "Saved CPD 5 to ./cpds/cpd_5.csv\n",
      "Saved CPD 6 to ./cpds/cpd_6.csv\n"
     ]
    }
   ],
   "source": [
    "# Create the directory if it doesn't exist\n",
    "if not os.path.exists('./cpds/'):\n",
    "    os.makedirs('./cpds/')\n",
    "\n",
    "# Iterate through each CPD and save it as a CSV file\n",
    "for i, cpd in enumerate(cpds):\n",
    "    cpd_df = pd.DataFrame(cpd.get_values())\n",
    "    if len(cpd.variables) > 1:\n",
    "        cpd_df.columns = [f\"{cpd.variables[1]}({j})\" for j in range(cpd_df.shape[1])]\n",
    "    else:\n",
    "        cpd_df.columns = [f\"{cpd.variables[0]}({j})\" for j in range(cpd_df.shape[1])]\n",
    "    cpd_df.index = [f\"{cpd.variables[0]}({j})\" for j in range(cpd_df.shape[0])]\n",
    "    cpd_df.to_csv(f'./cpds/cpd_{i}.csv')\n",
    "    print(f'Saved CPD {i} to ./cpds/cpd_{i}.csv')"
   ]
  },
  {
   "cell_type": "code",
   "execution_count": 24,
   "metadata": {},
   "outputs": [],
   "source": [
    "cpd_seasons = model.get_cpds('seasons')\n",
    "cpd_temp = model.get_cpds('temperature')\n",
    "cpd_wind = model.get_cpds('wind')\n",
    "cpd_sunlight = model.get_cpds('sunlight')\n",
    "cpd_rain = model.get_cpds('rain')\n",
    "cpd_mood = model.get_cpds('mood')\n",
    "cpd_walk = model.get_cpds('walk')"
   ]
  },
  {
   "cell_type": "code",
   "execution_count": 25,
   "metadata": {},
   "outputs": [],
   "source": [
    "cpd_seasons.to_csv('./cpds/cpd_seasons.csv')\n",
    "cpd_temp.to_csv('./cpds/cpd_temp.csv')\n",
    "cpd_wind.to_csv('./cpds/cpd_wind.csv')\n",
    "cpd_sunlight.to_csv('./cpds/cpd_sunlight.csv')\n",
    "cpd_rain.to_csv('./cpds/cpd_rain.csv')\n",
    "cpd_mood.to_csv('./cpds/cpd_mood.csv')\n",
    "cpd_walk.to_csv('./cpds/cpd_walk.csv')"
   ]
  },
  {
   "cell_type": "markdown",
   "metadata": {},
   "source": [
    "### CPD fot seasons"
   ]
  },
  {
   "cell_type": "code",
   "execution_count": 26,
   "metadata": {},
   "outputs": [
    {
     "name": "stdout",
     "output_type": "stream",
     "text": [
      "Variable: seasons\n",
      "Cardinality: [4]\n",
      "+-----------------+----------+\n",
      "| seasons(Autumn) | 0.241251 |\n",
      "+-----------------+----------+\n",
      "| seasons(Spring) | 0.243902 |\n",
      "+-----------------+----------+\n",
      "| seasons(Summer) | 0.243902 |\n",
      "+-----------------+----------+\n",
      "| seasons(Winter) | 0.270944 |\n",
      "+-----------------+----------+\n",
      "\n",
      "\n",
      "Variable: temperature\n",
      "Cardinality: [4 4]\n",
      "+------------------------+-----+---------------------+\n",
      "| seasons                | ... | seasons(Winter)     |\n",
      "+------------------------+-----+---------------------+\n",
      "| temperature(cold)      | ... | 0.45792563600782776 |\n",
      "+------------------------+-----+---------------------+\n",
      "| temperature(hot)       | ... | 0.0                 |\n",
      "+------------------------+-----+---------------------+\n",
      "| temperature(very cold) | ... | 0.5420743639921722  |\n",
      "+------------------------+-----+---------------------+\n",
      "| temperature(warm)      | ... | 0.0                 |\n",
      "+------------------------+-----+---------------------+\n",
      "\n",
      "\n",
      "Variable: wind\n",
      "Cardinality: [7 4]\n",
      "+-------------------------+-----+----------------------+\n",
      "| seasons                 | ... | seasons(Winter)      |\n",
      "+-------------------------+-----+----------------------+\n",
      "| wind(0 calm)            | ... | 0.0                  |\n",
      "+-------------------------+-----+----------------------+\n",
      "| wind(1 light air)       | ... | 0.0                  |\n",
      "+-------------------------+-----+----------------------+\n",
      "| wind(2 light breeze)    | ... | 0.03131115459882583  |\n",
      "+-------------------------+-----+----------------------+\n",
      "| wind(3 gentle breeze)   | ... | 0.33072407045009783  |\n",
      "+-------------------------+-----+----------------------+\n",
      "| wind(4 moderate breeze) | ... | 0.41291585127201563  |\n",
      "+-------------------------+-----+----------------------+\n",
      "| wind(5 fresh breeze)    | ... | 0.18199608610567514  |\n",
      "+-------------------------+-----+----------------------+\n",
      "| wind(6 strong breeze)   | ... | 0.043052837573385516 |\n",
      "+-------------------------+-----+----------------------+\n",
      "\n",
      "\n",
      "Variable: rain\n",
      "Cardinality: [2 4 4 7]\n",
      "+-------------+-------------------+-----+-----------------------+\n",
      "| seasons     | seasons(Autumn)   | ... | seasons(Winter)       |\n",
      "+-------------+-------------------+-----+-----------------------+\n",
      "| temperature | temperature(cold) | ... | temperature(warm)     |\n",
      "+-------------+-------------------+-----+-----------------------+\n",
      "| wind        | wind(0 calm)      | ... | wind(6 strong breeze) |\n",
      "+-------------+-------------------+-----+-----------------------+\n",
      "| rain(0)     | 0.5               | ... | 0.5                   |\n",
      "+-------------+-------------------+-----+-----------------------+\n",
      "| rain(1)     | 0.5               | ... | 0.5                   |\n",
      "+-------------+-------------------+-----+-----------------------+\n",
      "\n",
      "\n",
      "Variable: sunlight\n",
      "Cardinality: [2 4 4 7]\n",
      "+-------------+-------------------+-----+-----------------------+\n",
      "| seasons     | seasons(Autumn)   | ... | seasons(Winter)       |\n",
      "+-------------+-------------------+-----+-----------------------+\n",
      "| temperature | temperature(cold) | ... | temperature(warm)     |\n",
      "+-------------+-------------------+-----+-----------------------+\n",
      "| wind        | wind(0 calm)      | ... | wind(6 strong breeze) |\n",
      "+-------------+-------------------+-----+-----------------------+\n",
      "| sunlight(0) | 0.5               | ... | 0.5                   |\n",
      "+-------------+-------------------+-----+-----------------------+\n",
      "| sunlight(1) | 0.5               | ... | 0.5                   |\n",
      "+-------------+-------------------+-----+-----------------------+\n",
      "\n",
      "\n",
      "Variable: walk\n",
      "Cardinality: [2 5 4 7]\n",
      "+-------------+-------------------+-----+-----------------------+\n",
      "| mood        | mood(0 very bad)  | ... | mood(4 very good)     |\n",
      "+-------------+-------------------+-----+-----------------------+\n",
      "| temperature | temperature(cold) | ... | temperature(warm)     |\n",
      "+-------------+-------------------+-----+-----------------------+\n",
      "| wind        | wind(0 calm)      | ... | wind(6 strong breeze) |\n",
      "+-------------+-------------------+-----+-----------------------+\n",
      "| walk(0)     | 0.5               | ... | 0.5                   |\n",
      "+-------------+-------------------+-----+-----------------------+\n",
      "| walk(1)     | 0.5               | ... | 0.5                   |\n",
      "+-------------+-------------------+-----+-----------------------+\n",
      "\n",
      "\n",
      "Variable: mood\n",
      "Cardinality: [5 2 2]\n",
      "+-------------------+-------------+-----+-------------+\n",
      "| rain              | rain(0)     | ... | rain(1)     |\n",
      "+-------------------+-------------+-----+-------------+\n",
      "| sunlight          | sunlight(0) | ... | sunlight(1) |\n",
      "+-------------------+-------------+-----+-------------+\n",
      "| mood(0 very bad)  | 0.2         | ... | 0.2         |\n",
      "+-------------------+-------------+-----+-------------+\n",
      "| mood(1 bad)       | 0.2         | ... | 0.2         |\n",
      "+-------------------+-------------+-----+-------------+\n",
      "| mood(2 okish)     | 0.2         | ... | 0.2         |\n",
      "+-------------------+-------------+-----+-------------+\n",
      "| mood(3 good)      | 0.2         | ... | 0.2         |\n",
      "+-------------------+-------------+-----+-------------+\n",
      "| mood(4 very good) | 0.2         | ... | 0.2         |\n",
      "+-------------------+-------------+-----+-------------+\n",
      "\n",
      "\n"
     ]
    }
   ],
   "source": [
    "for cpd in model.get_cpds():\n",
    "    print(f\"Variable: {cpd.variable}\")\n",
    "    print(f\"Cardinality: {cpd.cardinality}\")\n",
    "    print(cpd)\n",
    "    print(\"\\n\")"
   ]
  },
  {
   "cell_type": "code",
   "execution_count": 27,
   "metadata": {},
   "outputs": [
    {
     "data": {
      "image/png": "[encoded data removed]",
      "text/plain": [
       "<Figure size 800x500 with 2 Axes>"
      ]
     },
     "metadata": {},
     "output_type": "display_data"
    }
   ],
   "source": [
    "cpd_seasons = model.get_cpds('seasons')\n",
    "\n",
    "# Convert CPD values to a 2D array\n",
    "cpd_values_2d = cpd_seasons.values.reshape(-1, cpd_seasons.cardinality[0])\n",
    "\n",
    "# Create a DataFrame for the heatmap\n",
    "df_cpd = pd.DataFrame(cpd_values_2d, columns=[f'walk_{i}' for i in range(cpd_seasons.cardinality[0])])\n",
    "\n",
    "# Plot heatmap\n",
    "plt.figure(figsize=(8, 5))\n",
    "sns.heatmap(df_cpd, annot=True, cmap=\"viridis\", fmt=\".2f\")\n",
    "plt.title(\"Conditional Probability Distribution of '{cpd_seasons.variable}'\")\n",
    "plt.xlabel(\"walk\")\n",
    "plt.ylabel(\"Parent States\")\n",
    "plt.show()\n"
   ]
  },
  {
   "cell_type": "code",
   "execution_count": 28,
   "metadata": {},
   "outputs": [
    {
     "data": {
      "image/png": "[encoded data removed]",
      "text/plain": [
       "<Figure size 800x500 with 2 Axes>"
      ]
     },
     "metadata": {},
     "output_type": "display_data"
    }
   ],
   "source": [
    "# Extract CPD for the node 'walk'\n",
    "cpd_temp = model.get_cpds('temperature')\n",
    "\n",
    "# Convert CPD values to a 2D array\n",
    "cpd_values_2d = cpd_temp.values.reshape(-1, cpd_temp.cardinality[0])\n",
    "\n",
    "# Create a DataFrame for the heatmap\n",
    "df_cpd = pd.DataFrame(cpd_values_2d, columns=[f'walk_{i}' for i in range(cpd_temp.cardinality[0])])\n",
    "\n",
    "# Plot heatmap\n",
    "plt.figure(figsize=(8, 5))\n",
    "sns.heatmap(df_cpd, annot=True, cmap=\"viridis\", fmt=\".2f\")\n",
    "plt.title(\"Conditional Probability Distribution of '{cpd_temp.variable}'\")\n",
    "plt.xlabel(\"walk\")\n",
    "plt.ylabel(\"Parent States\")\n",
    "plt.show()\n"
   ]
  },
  {
   "cell_type": "code",
   "execution_count": 29,
   "metadata": {},
   "outputs": [
    {
     "data": {
      "image/png": "[encoded data removed]",
      "text/plain": [
       "<Figure size 800x500 with 2 Axes>"
      ]
     },
     "metadata": {},
     "output_type": "display_data"
    }
   ],
   "source": [
    "# Extract CPD for the node\n",
    "cpd_wind = model.get_cpds('wind')\n",
    "\n",
    "# Convert CPD values to a 2D array\n",
    "cpd_values_2d = cpd_wind.values.reshape(-1, cpd_wind.cardinality[0])\n",
    "\n",
    "# Create a DataFrame for the heatmap\n",
    "df_cpd = pd.DataFrame(cpd_values_2d, columns=[f\"{cpd_wind.variable}({i})\" for i in range(cpd_wind.cardinality[0])])\n",
    "\n",
    "# Plot heatmap\n",
    "plt.figure(figsize=(8, 5))\n",
    "sns.heatmap(df_cpd, annot=True, cmap=\"viridis\", fmt=\".2f\")\n",
    "plt.title(f\"Conditional Probability Distribution of '{cpd_wind.variable}'\")\n",
    "plt.xlabel(f\"{cpd_wind.variable}\")\n",
    "plt.ylabel(f\"Parent States\")\n",
    "plt.show()\n"
   ]
  },
  {
   "cell_type": "code",
   "execution_count": 30,
   "metadata": {},
   "outputs": [
    {
     "data": {
      "image/png": "[encoded data removed]",
      "text/plain": [
       "<Figure size 800x500 with 2 Axes>"
      ]
     },
     "metadata": {},
     "output_type": "display_data"
    }
   ],
   "source": [
    "# Extract CPD for the node\n",
    "cpd_rain = model.get_cpds('rain')\n",
    "\n",
    "# Convert CPD values to a 2D array\n",
    "cpd_values_2d = cpd_rain.values.reshape(-1, cpd_rain.cardinality[0])\n",
    "\n",
    "# Create a DataFrame for the heatmap\n",
    "df_cpd = pd.DataFrame(cpd_values_2d, columns=[f\"{cpd_rain.variable}({i})\" for i in range(cpd_rain.cardinality[0])])\n",
    "\n",
    "# Plot heatmap\n",
    "plt.figure(figsize=(8, 5))\n",
    "sns.heatmap(df_cpd, annot=True, cmap=\"viridis\", fmt=\".2f\")\n",
    "plt.title(f\"Conditional Probability Distribution of '{cpd_rain.variable}'\")\n",
    "plt.xlabel(f\"{cpd_rain.variable}\")\n",
    "plt.ylabel(f\"Parent States\")\n",
    "plt.show()\n"
   ]
  },
  {
   "cell_type": "code",
   "execution_count": 31,
   "metadata": {},
   "outputs": [
    {
     "name": "stdout",
     "output_type": "stream",
     "text": [
      "<TabularCPD representing P(rain:2 | seasons:4, temperature:4, wind:7) at 0x1e050a548c0>\n"
     ]
    }
   ],
   "source": [
    "pprint.pprint(cpd_rain)"
   ]
  },
  {
   "cell_type": "code",
   "execution_count": 32,
   "metadata": {},
   "outputs": [
    {
     "data": {
      "text/plain": [
       "2"
      ]
     },
     "execution_count": 32,
     "metadata": {},
     "output_type": "execute_result"
    }
   ],
   "source": [
    "cpd_rain.variable_card"
   ]
  },
  {
   "cell_type": "code",
   "execution_count": 33,
   "metadata": {},
   "outputs": [
    {
     "name": "stdout",
     "output_type": "stream",
     "text": [
      "[[[[0.5        0.5        1.         1.         1.         0.84444444\n",
      "    0.        ]\n",
      "   [0.5        0.5        0.5        0.5        0.5        0.5\n",
      "    0.5       ]\n",
      "   [0.5        0.5        0.5        0.5        0.5        0.5\n",
      "    0.5       ]\n",
      "   [1.         1.         1.         0.         0.         0.5\n",
      "    0.5       ]]\n",
      "\n",
      "  [[0.5        0.5        1.         1.         0.98230088 0.92592593\n",
      "    0.        ]\n",
      "   [0.5        0.5        0.5        0.5        0.5        0.5\n",
      "    0.5       ]\n",
      "   [0.5        0.5        0.5        0.5        0.5        0.5\n",
      "    0.5       ]\n",
      "   [1.         1.         1.         0.         0.         0.\n",
      "    0.5       ]]\n",
      "\n",
      "  [[0.5        0.5        0.5        0.5        0.5        0.5\n",
      "    0.5       ]\n",
      "   [1.         1.         1.         0.         0.         0.\n",
      "    0.5       ]\n",
      "   [0.5        0.5        0.5        0.5        0.5        0.5\n",
      "    0.5       ]\n",
      "   [1.         1.         1.         0.         0.         0.\n",
      "    0.5       ]]\n",
      "\n",
      "  [[0.5        0.5        1.         1.         1.         0.83333333\n",
      "    0.        ]\n",
      "   [0.5        0.5        0.5        0.5        0.5        0.5\n",
      "    0.5       ]\n",
      "   [0.5        0.5        1.         1.         0.99074074 0.92156863\n",
      "    0.        ]\n",
      "   [0.5        0.5        0.5        0.5        0.5        0.5\n",
      "    0.5       ]]]\n",
      "\n",
      "\n",
      " [[[0.5        0.5        0.         0.         0.         0.15555556\n",
      "    1.        ]\n",
      "   [0.5        0.5        0.5        0.5        0.5        0.5\n",
      "    0.5       ]\n",
      "   [0.5        0.5        0.5        0.5        0.5        0.5\n",
      "    0.5       ]\n",
      "   [0.         0.         0.         1.         1.         0.5\n",
      "    0.5       ]]\n",
      "\n",
      "  [[0.5        0.5        0.         0.         0.01769912 0.07407407\n",
      "    1.        ]\n",
      "   [0.5        0.5        0.5        0.5        0.5        0.5\n",
      "    0.5       ]\n",
      "   [0.5        0.5        0.5        0.5        0.5        0.5\n",
      "    0.5       ]\n",
      "   [0.         0.         0.         1.         1.         1.\n",
      "    0.5       ]]\n",
      "\n",
      "  [[0.5        0.5        0.5        0.5        0.5        0.5\n",
      "    0.5       ]\n",
      "   [0.         0.         0.         1.         1.         1.\n",
      "    0.5       ]\n",
      "   [0.5        0.5        0.5        0.5        0.5        0.5\n",
      "    0.5       ]\n",
      "   [0.         0.         0.         1.         1.         1.\n",
      "    0.5       ]]\n",
      "\n",
      "  [[0.5        0.5        0.         0.         0.         0.16666667\n",
      "    1.        ]\n",
      "   [0.5        0.5        0.5        0.5        0.5        0.5\n",
      "    0.5       ]\n",
      "   [0.5        0.5        0.         0.         0.00925926 0.07843137\n",
      "    1.        ]\n",
      "   [0.5        0.5        0.5        0.5        0.5        0.5\n",
      "    0.5       ]]]]\n"
     ]
    }
   ],
   "source": [
    "print(cpd_rain.values)"
   ]
  },
  {
   "cell_type": "code",
   "execution_count": 34,
   "metadata": {},
   "outputs": [],
   "source": [
    "cpd_rain.to_csv('./cpds/cpd_rain.csv')"
   ]
  },
  {
   "cell_type": "markdown",
   "metadata": {},
   "source": [
    "use CPDs"
   ]
  },
  {
   "cell_type": "code",
   "execution_count": 35,
   "metadata": {},
   "outputs": [
    {
     "data": {
      "text/plain": [
       "['0 very bad', '3 good', '1 bad', '2 okish', '4 very good']\n",
       "Categories (5, object): ['0 very bad', '1 bad', '2 okish', '3 good', '4 very good']"
      ]
     },
     "execution_count": 35,
     "metadata": {},
     "output_type": "execute_result"
    }
   ],
   "source": [
    "df['mood'].unique()"
   ]
  },
  {
   "cell_type": "code",
   "execution_count": 36,
   "metadata": {},
   "outputs": [
    {
     "name": "stdout",
     "output_type": "stream",
     "text": [
      "+---------+-------------+\n",
      "| walk    |   phi(walk) |\n",
      "+=========+=============+\n",
      "| walk(0) |      0.5000 |\n",
      "+---------+-------------+\n",
      "| walk(1) |      0.5000 |\n",
      "+---------+-------------+\n"
     ]
    }
   ],
   "source": [
    "# Create an inference object\n",
    "inference = VariableElimination(model)\n",
    "\n",
    "# Perform inference to find the probability of 'walk' given evidence\n",
    "evidence = {'mood': \"0 very bad\", 'rain': 0, 'sunlight': 1, 'temperature': \"hot\", 'wind': \"1 light air\"}\n",
    "result = inference.query(variables=['walk'], evidence=evidence)\n",
    "\n",
    "# Print the result\n",
    "print(result)"
   ]
  },
  {
   "cell_type": "markdown",
   "metadata": {},
   "source": [
    "# Simulate & predict based on new data"
   ]
  },
  {
   "cell_type": "markdown",
   "metadata": {},
   "source": [
    "## load the new data"
   ]
  },
  {
   "cell_type": "code",
   "execution_count": 37,
   "metadata": {
    "vscode": {
     "languageId": "ruby"
    }
   },
   "outputs": [
    {
     "name": "stdout",
     "output_type": "stream",
     "text": [
      "<class 'pandas.core.frame.DataFrame'>\n",
      "RangeIndex: 1917 entries, 0 to 1916\n",
      "Data columns (total 12 columns):\n",
      " #   Column                Non-Null Count  Dtype         \n",
      "---  ------                --------------  -----         \n",
      " 0   date                  1917 non-null   datetime64[ns]\n",
      " 1   temperature           1917 non-null   int64         \n",
      " 2   month                 1917 non-null   object        \n",
      " 3   seasons               1917 non-null   object        \n",
      " 4   rain                  1917 non-null   int64         \n",
      " 5   sunlight              1917 non-null   int64         \n",
      " 6   wind                  1917 non-null   int64         \n",
      " 7   mood                  1917 non-null   int64         \n",
      " 8   walk                  1917 non-null   int64         \n",
      " 9   temperature_category  1917 non-null   object        \n",
      " 10  wind_category         1917 non-null   object        \n",
      " 11  mood_category         1917 non-null   object        \n",
      "dtypes: datetime64[ns](1), int64(6), object(5)\n",
      "memory usage: 179.8+ KB\n"
     ]
    }
   ],
   "source": [
    "# Load the new data\n",
    "df_to_predict = pd.read_csv('./data/to_predict_long.csv')\n",
    "df_to_predict['date'] = pd.to_datetime(df_to_predict['date'])\n",
    "df_to_predict.info()"
   ]
  },
  {
   "cell_type": "markdown",
   "metadata": {},
   "source": [
    "## process new data"
   ]
  },
  {
   "cell_type": "code",
   "execution_count": 38,
   "metadata": {
    "vscode": {
     "languageId": "ruby"
    }
   },
   "outputs": [
    {
     "name": "stdout",
     "output_type": "stream",
     "text": [
      "<class 'pandas.core.frame.DataFrame'>\n",
      "RangeIndex: 1917 entries, 0 to 1916\n",
      "Data columns (total 7 columns):\n",
      " #   Column       Non-Null Count  Dtype   \n",
      "---  ------       --------------  -----   \n",
      " 0   seasons      1917 non-null   category\n",
      " 1   rain         1917 non-null   category\n",
      " 2   sunlight     1917 non-null   category\n",
      " 3   walk         1917 non-null   category\n",
      " 4   temperature  1917 non-null   category\n",
      " 5   wind         1917 non-null   category\n",
      " 6   mood         1917 non-null   category\n",
      "dtypes: category(7)\n",
      "memory usage: 14.5 KB\n"
     ]
    },
    {
     "data": {
      "application/vnd.microsoft.datawrangler.viewer.v0+json": {
       "columns": [
        {
         "name": "index",
         "rawType": "int64",
         "type": "integer"
        },
        {
         "name": "seasons",
         "rawType": "category",
         "type": "unknown"
        },
        {
         "name": "rain",
         "rawType": "category",
         "type": "unknown"
        },
        {
         "name": "sunlight",
         "rawType": "category",
         "type": "unknown"
        },
        {
         "name": "walk",
         "rawType": "category",
         "type": "unknown"
        },
        {
         "name": "temperature",
         "rawType": "category",
         "type": "unknown"
        },
        {
         "name": "wind",
         "rawType": "category",
         "type": "unknown"
        },
        {
         "name": "mood",
         "rawType": "category",
         "type": "unknown"
        }
       ],
       "conversionMethod": "pd.DataFrame",
       "ref": "61e3de2c-5dad-4be1-86c0-f6bc9b69f784",
       "rows": [
        [
         "0",
         "Winter",
         "1",
         "0",
         "0",
         "very cold",
         "6 strong breeze",
         "0 very bad"
        ],
        [
         "1",
         "Winter",
         "0",
         "1",
         "1",
         "cold",
         "3 gentle breeze",
         "3 good"
        ],
        [
         "2",
         "Winter",
         "0",
         "1",
         "0",
         "cold",
         "4 moderate breeze",
         "1 bad"
        ],
        [
         "3",
         "Winter",
         "0",
         "1",
         "1",
         "cold",
         "2 light breeze",
         "2 okish"
        ],
        [
         "4",
         "Winter",
         "0",
         "1",
         "0",
         "very cold",
         "4 moderate breeze",
         "0 very bad"
        ]
       ],
       "shape": {
        "columns": 7,
        "rows": 5
       }
      },
      "text/html": [
       "<div>\n",
       "<style scoped>\n",
       "    .dataframe tbody tr th:only-of-type {\n",
       "        vertical-align: middle;\n",
       "    }\n",
       "\n",
       "    .dataframe tbody tr th {\n",
       "        vertical-align: top;\n",
       "    }\n",
       "\n",
       "    .dataframe thead th {\n",
       "        text-align: right;\n",
       "    }\n",
       "</style>\n",
       "<table border=\"1\" class=\"dataframe\">\n",
       "  <thead>\n",
       "    <tr style=\"text-align: right;\">\n",
       "      <th></th>\n",
       "      <th>seasons</th>\n",
       "      <th>rain</th>\n",
       "      <th>sunlight</th>\n",
       "      <th>walk</th>\n",
       "      <th>temperature</th>\n",
       "      <th>wind</th>\n",
       "      <th>mood</th>\n",
       "    </tr>\n",
       "  </thead>\n",
       "  <tbody>\n",
       "    <tr>\n",
       "      <th>0</th>\n",
       "      <td>Winter</td>\n",
       "      <td>1</td>\n",
       "      <td>0</td>\n",
       "      <td>0</td>\n",
       "      <td>very cold</td>\n",
       "      <td>6 strong breeze</td>\n",
       "      <td>0 very bad</td>\n",
       "    </tr>\n",
       "    <tr>\n",
       "      <th>1</th>\n",
       "      <td>Winter</td>\n",
       "      <td>0</td>\n",
       "      <td>1</td>\n",
       "      <td>1</td>\n",
       "      <td>cold</td>\n",
       "      <td>3 gentle breeze</td>\n",
       "      <td>3 good</td>\n",
       "    </tr>\n",
       "    <tr>\n",
       "      <th>2</th>\n",
       "      <td>Winter</td>\n",
       "      <td>0</td>\n",
       "      <td>1</td>\n",
       "      <td>0</td>\n",
       "      <td>cold</td>\n",
       "      <td>4 moderate breeze</td>\n",
       "      <td>1 bad</td>\n",
       "    </tr>\n",
       "    <tr>\n",
       "      <th>3</th>\n",
       "      <td>Winter</td>\n",
       "      <td>0</td>\n",
       "      <td>1</td>\n",
       "      <td>1</td>\n",
       "      <td>cold</td>\n",
       "      <td>2 light breeze</td>\n",
       "      <td>2 okish</td>\n",
       "    </tr>\n",
       "    <tr>\n",
       "      <th>4</th>\n",
       "      <td>Winter</td>\n",
       "      <td>0</td>\n",
       "      <td>1</td>\n",
       "      <td>0</td>\n",
       "      <td>very cold</td>\n",
       "      <td>4 moderate breeze</td>\n",
       "      <td>0 very bad</td>\n",
       "    </tr>\n",
       "  </tbody>\n",
       "</table>\n",
       "</div>"
      ],
      "text/plain": [
       "  seasons rain sunlight walk temperature               wind        mood\n",
       "0  Winter    1        0    0   very cold    6 strong breeze  0 very bad\n",
       "1  Winter    0        1    1        cold    3 gentle breeze      3 good\n",
       "2  Winter    0        1    0        cold  4 moderate breeze       1 bad\n",
       "3  Winter    0        1    1        cold     2 light breeze     2 okish\n",
       "4  Winter    0        1    0   very cold  4 moderate breeze  0 very bad"
      ]
     },
     "execution_count": 38,
     "metadata": {},
     "output_type": "execute_result"
    }
   ],
   "source": [
    "# Process the new data using the process_new_data method\n",
    "df_to_predict_processed = process_new_data(df_to_predict)\n",
    "\n",
    "# Print the processed dataframe to verify the changes\n",
    "df_to_predict_processed.head()"
   ]
  },
  {
   "cell_type": "markdown",
   "metadata": {},
   "source": [
    "## Use the loaded data to predict"
   ]
  },
  {
   "cell_type": "code",
   "execution_count": 39,
   "metadata": {},
   "outputs": [
    {
     "data": {
      "application/vnd.jupyter.widget-view+json": {
       "model_id": "6a93a5402fb3408d815d4cb3f7f07134",
       "version_major": 2,
       "version_minor": 0
      },
      "text/plain": [
       "  0%|          | 0/111 [00:00<?, ?it/s]"
      ]
     },
     "metadata": {},
     "output_type": "display_data"
    },
    {
     "name": "stdout",
     "output_type": "stream",
     "text": [
      "Accuracy: 0.8294\n",
      "Recall: 0.9169\n",
      "Precision: 0.8751\n",
      "F1 Score: 0.8955\n"
     ]
    }
   ],
   "source": [
    "# Make predictions\n",
    "y_pred = model.predict(df_to_predict_processed.drop(columns=['walk']))\n",
    "\n",
    "# Calculate metrics\n",
    "accuracy = accuracy_score(df_to_predict_processed['walk'], y_pred['walk'])\n",
    "recall = recall_score(df_to_predict_processed['walk'], y_pred['walk'], average='binary')  # Change 'binary' to 'macro' or 'micro' if needed\n",
    "precision = precision_score(df_to_predict_processed['walk'], y_pred['walk'], average='binary')\n",
    "f1 = f1_score(df_to_predict_processed['walk'], y_pred['walk'], average='binary')\n",
    "\n",
    "# Print metrics\n",
    "print(f'Accuracy: {accuracy:.4f}')\n",
    "print(f'Recall: {recall:.4f}')\n",
    "print(f'Precision: {precision:.4f}')\n",
    "print(f'F1 Score: {f1:.4f}')"
   ]
  },
  {
   "cell_type": "markdown",
   "metadata": {},
   "source": [
    "## GUI to predict `walk`"
   ]
  },
  {
   "cell_type": "markdown",
   "metadata": {},
   "source": [
    "methods to categorize the data"
   ]
  },
  {
   "cell_type": "code",
   "execution_count": 40,
   "metadata": {},
   "outputs": [],
   "source": [
    "# Define a function to categorize temperature\n",
    "def categorize_temperature(temp):\n",
    "    if temp < 0:\n",
    "        return 'very cold'\n",
    "    elif 0 < temp <= 10:\n",
    "        return 'cold'\n",
    "    elif 10 < temp <= 20:\n",
    "        return 'warm'\n",
    "    else:\n",
    "        return 'hot'\n",
    "    \n",
    "# Define a function to categorize temperature\n",
    "def categorize_wind(wind):\n",
    "    if wind < 1:\n",
    "        return 'calm'\n",
    "    elif 1 < wind <= 5:\n",
    "        return 'light air'\n",
    "    elif 6 < wind <= 11:\n",
    "        return 'light breeze'\n",
    "    elif 12 < wind <= 20:\n",
    "        return 'gentle breeze'\n",
    "    elif 21 < wind <= 28:\n",
    "        return 'moderate breeze'\n",
    "    elif 29 < wind <= 38:\n",
    "        return 'fresh breeze'\n",
    "    else:\n",
    "        return 'strong breeze'\n",
    "    \n",
    "# Define a function to categorize temperature\n",
    "def categorize_mood(mood):\n",
    "    if mood < -25:\n",
    "        return 'very bad'\n",
    "    elif -26 < mood <= 0:\n",
    "        return 'bad'\n",
    "    elif 0 < mood <= 10:\n",
    "        return 'okish'\n",
    "    elif 11 < mood <= 30:\n",
    "        return 'good'\n",
    "    else:\n",
    "        return 'very good'"
   ]
  },
  {
   "cell_type": "code",
   "execution_count": 41,
   "metadata": {},
   "outputs": [],
   "source": [
    "# Create sliders for the input variables\n",
    "temperature_slider = widgets.IntSlider(min=-10, max=40, step=1, description='Temperature')\n",
    "rain_slider = widgets.IntSlider(min=0, max=1, step=1, description='Rain')\n",
    "sunlight_slider = widgets.IntSlider(min=0, max=1, step=1, description='Sunlight')\n",
    "wind_slider = widgets.IntSlider(min=0, max=50, step=1, description='Wind')\n",
    "mood_slider = widgets.IntSlider(min=-50, max=50, step=1, description='Mood')\n",
    "\n",
    "temperature_label = widgets.Label(value=categorize_temperature(temperature_slider.value))\n",
    "wind_label = widgets.Label(value=categorize_wind(wind_slider.value))\n",
    "mood_label = widgets.Label(value=categorize_mood(mood_slider.value))\n",
    "\n",
    "# Create a button for prediction\n",
    "predict_button = widgets.Button(description='Predict if I walk')\n",
    "\n",
    "# Create an output widget to display the result\n",
    "output = widgets.Output()"
   ]
  },
  {
   "cell_type": "markdown",
   "metadata": {},
   "source": [
    "dynamically show labels based on slider"
   ]
  },
  {
   "cell_type": "code",
   "execution_count": 42,
   "metadata": {},
   "outputs": [],
   "source": [
    "# Define callback functions to update the labels\n",
    "def update_temperature_label(change):\n",
    "    temperature_label.value = categorize_temperature(change['new'])\n",
    "\n",
    "def update_wind_label(change):\n",
    "    wind_label.value = categorize_wind(change['new'])\n",
    "\n",
    "def update_mood_label(change):\n",
    "    mood_label.value = categorize_mood(change['new'])\n",
    "\n",
    "# Attach the callback functions to the sliders\n",
    "temperature_slider.observe(update_temperature_label, names='value')\n",
    "wind_slider.observe(update_wind_label, names='value')\n",
    "mood_slider.observe(update_mood_label, names='value')"
   ]
  },
  {
   "cell_type": "markdown",
   "metadata": {},
   "source": [
    "predict function for the GUI"
   ]
  },
  {
   "cell_type": "code",
   "execution_count": 43,
   "metadata": {},
   "outputs": [],
   "source": [
    "# Define the function to be called when the button is clicked\n",
    "def predict_walk(b):\n",
    "    # Get the values from the sliders\n",
    "    temperature = categorize_temperature(temperature_slider.value)\n",
    "    rain = rain_slider.value\n",
    "    sunlight = sunlight_slider.value\n",
    "    wind = categorize_wind(wind_slider.value)\n",
    "    \n",
    "    # Create a new instance of data\n",
    "    new_data = pd.DataFrame([{\n",
    "        'temperature': temperature,\n",
    "        'rain': rain,\n",
    "        'sunlight': sunlight,\n",
    "        'wind': wind\n",
    "    }])\n",
    "    \n",
    "    # Perform inference to predict 'walk'\n",
    "    prediction = model.predict(new_data)\n",
    "\n",
    "    pred_str = \"I walk\" if prediction['walk'].values[0] == 0 else \"I do NOT walk\"\n",
    "    \n",
    "    # Display the result\n",
    "    with output:\n",
    "        output.clear_output()\n",
    "        print(f\"Predicted walk: {pred_str}\")\n",
    "        print(f\"Predicted walk: {prediction['walk'].values[0]}\")\n",
    "\n",
    "# Attach the function to the button\n",
    "predict_button.on_click(predict_walk)"
   ]
  },
  {
   "cell_type": "markdown",
   "metadata": {},
   "source": [
    "run the GUI"
   ]
  },
  {
   "cell_type": "code",
   "execution_count": 44,
   "metadata": {},
   "outputs": [
    {
     "data": {
      "application/vnd.jupyter.widget-view+json": {
       "model_id": "484e05c43f2947a8acf48a017a300b7c",
       "version_major": 2,
       "version_minor": 0
      },
      "text/plain": [
       "IntSlider(value=0, description='Temperature', max=40, min=-10)"
      ]
     },
     "metadata": {},
     "output_type": "display_data"
    },
    {
     "data": {
      "application/vnd.jupyter.widget-view+json": {
       "model_id": "fab35af534944186a3bf0564374bbc4d",
       "version_major": 2,
       "version_minor": 0
      },
      "text/plain": [
       "Label(value='hot')"
      ]
     },
     "metadata": {},
     "output_type": "display_data"
    },
    {
     "data": {
      "application/vnd.jupyter.widget-view+json": {
       "model_id": "fe05c11e18aa4ed6933636dfa825428a",
       "version_major": 2,
       "version_minor": 0
      },
      "text/plain": [
       "IntSlider(value=0, description='Rain', max=1)"
      ]
     },
     "metadata": {},
     "output_type": "display_data"
    },
    {
     "data": {
      "application/vnd.jupyter.widget-view+json": {
       "model_id": "5351adcbc7b24828aef52a11130722c1",
       "version_major": 2,
       "version_minor": 0
      },
      "text/plain": [
       "IntSlider(value=0, description='Sunlight', max=1)"
      ]
     },
     "metadata": {},
     "output_type": "display_data"
    },
    {
     "data": {
      "application/vnd.jupyter.widget-view+json": {
       "model_id": "29dcb8006f8e424ab462be68d6f970ec",
       "version_major": 2,
       "version_minor": 0
      },
      "text/plain": [
       "IntSlider(value=0, description='Wind', max=50)"
      ]
     },
     "metadata": {},
     "output_type": "display_data"
    },
    {
     "data": {
      "application/vnd.jupyter.widget-view+json": {
       "model_id": "78b64807bb72457fbde2e963e958017b",
       "version_major": 2,
       "version_minor": 0
      },
      "text/plain": [
       "Label(value='calm')"
      ]
     },
     "metadata": {},
     "output_type": "display_data"
    },
    {
     "data": {
      "application/vnd.jupyter.widget-view+json": {
       "model_id": "30583b82cbe144958cb1fbd9e670d36f",
       "version_major": 2,
       "version_minor": 0
      },
      "text/plain": [
       "Button(description='Predict if I walk', style=ButtonStyle())"
      ]
     },
     "metadata": {},
     "output_type": "display_data"
    },
    {
     "data": {
      "application/vnd.jupyter.widget-view+json": {
       "model_id": "583c3f30962c417db0544d7e86bb0442",
       "version_major": 2,
       "version_minor": 0
      },
      "text/plain": [
       "Output()"
      ]
     },
     "metadata": {},
     "output_type": "display_data"
    }
   ],
   "source": [
    "# Display the widgets\n",
    "display(temperature_slider, temperature_label, rain_slider, sunlight_slider, wind_slider, \n",
    "        wind_label, predict_button, output)"
   ]
  },
  {
   "cell_type": "markdown",
   "metadata": {},
   "source": [
    "# NetworkX & ipywidgets GUI"
   ]
  },
  {
   "cell_type": "code",
   "execution_count": 45,
   "metadata": {},
   "outputs": [],
   "source": [
    "edges = [\n",
    "    ('seasons', 'temperature'),\n",
    "    ('seasons', 'wind'),\n",
    "    ('seasons', 'rain'),\n",
    "    ('seasons', 'sunlight'),\n",
    "    ('temperature', 'walk'),\n",
    "    ('rain', 'mood'),\n",
    "    ('sunlight', 'mood'),\n",
    "    ('wind', 'walk'),\n",
    "    ('temperature', 'rain'),\n",
    "    ('wind', 'rain'),\n",
    "    ('temperature', 'sunlight'),\n",
    "    ('wind', 'sunlight'),\n",
    "    ('mood', 'walk')\n",
    "]"
   ]
  },
  {
   "cell_type": "code",
   "execution_count": 46,
   "metadata": {},
   "outputs": [
    {
     "data": {
      "application/vnd.jupyter.widget-view+json": {
       "model_id": "66d630c438ff4d4c82dc721b25cba4b2",
       "version_major": 2,
       "version_minor": 0
      },
      "text/plain": [
       "interactive(children=(Dropdown(description='Select Node:', options=('seasons', 'temperature', 'wind', 'rain', …"
      ]
     },
     "execution_count": 46,
     "metadata": {},
     "output_type": "execute_result"
    }
   ],
   "source": [
    "# Create graph from Bayesian Network\n",
    "G = nx.DiGraph()\n",
    "G.add_edges_from(edges)\n",
    "\n",
    "# Function to update plot based on selected node``\n",
    "def plot_bn(selected_node):\n",
    "    plt.figure(figsize=(8, 6))\n",
    "    \n",
    "    pos = nx.spring_layout(G)  # Automatically layout nodes\n",
    "    nx.draw(G, pos, with_labels=True, node_color=\"lightblue\", edge_color=\"gray\", node_size=3000, font_size=10)\n",
    "    \n",
    "    # Highlight selected node in red\n",
    "    nx.draw_networkx_nodes(G, pos, nodelist=[selected_node], node_color=\"red\", node_size=3000)\n",
    "    \n",
    "    # Highlight edges connected to the selected node\n",
    "    related_edges = [(u, v) for u, v in edges if u == selected_node or v == selected_node]\n",
    "    nx.draw_networkx_edges(G, pos, edgelist=related_edges, edge_color=\"red\", width=2)\n",
    "    \n",
    "    plt.title(f\"Bayesian Network - Selected Node: {selected_node}\")\n",
    "    plt.show()\n",
    "\n",
    "# Dropdown widget for selecting nodes\n",
    "node_selector = widgets.Dropdown(\n",
    "    options=list(G.nodes),\n",
    "    description=\"Select Node:\"\n",
    ")\n",
    "\n",
    "# Display interactive widget\n",
    "widgets.interactive(plot_bn, selected_node=node_selector)\n"
   ]
  },
  {
   "cell_type": "markdown",
   "metadata": {},
   "source": [
    "# Streamlit GUI"
   ]
  },
  {
   "cell_type": "code",
   "execution_count": 47,
   "metadata": {},
   "outputs": [],
   "source": [
    "infer = VariableElimination(model)"
   ]
  },
  {
   "cell_type": "code",
   "execution_count": 48,
   "metadata": {},
   "outputs": [],
   "source": [
    "G = nx.DiGraph()\n",
    "G.add_edges_from(model.edges())\n",
    "\n",
    "# Create Pyvis network\n",
    "net = Network(notebook=False, directed=True)\n",
    "net.from_nx(G)"
   ]
  },
  {
   "cell_type": "code",
   "execution_count": null,
   "metadata": {},
   "outputs": [],
   "source": [
    "def draw_graph():\n",
    "    G = nx.DiGraph()\n",
    "    G.add_edges_from(model.edges())\n",
    "    \n",
    "    net = Network(height='400px', width='100%', directed=True)\n",
    "    \n",
    "    for node in G.nodes():\n",
    "        net.add_node(node, label=node)\n",
    "    for edge in G.edges():\n",
    "        net.add_edge(edge[0], edge[1])\n",
    "    \n",
    "    net.write_html(\"graph.html\")  # Use write_html instead of show()\n",
    "    return \"graph.html\"\n",
    "\n",
    "# Streamlit UI\n",
    "st.title(\"Interactive Bayesian Network\")\n",
    "\n",
    "# Show Bayesian Network\n",
    "st.subheader(\"Bayesian Network Structure\")\n",
    "html_file = draw_graph()\n",
    "\n",
    "# Properly load the graph in Jupyter Notebook\n",
    "from IPython.core.display import display, HTML\n",
    "display(HTML(filename=html_file))\n",
    "\n",
    "with open(html_file, 'r', encoding='utf-8') as file:\n",
    "    html_content = file.read()\n",
    "st.components.v1.html(html_content, height=450)\n"
   ]
  }
 ],
 "metadata": {
  "kernelspec": {
   "display_name": "Python 3",
   "language": "python",
   "name": "python3"
  },
  "language_info": {
   "codemirror_mode": {
    "name": "ipython",
    "version": 3
   },
   "file_extension": ".py",
   "mimetype": "text/x-python",
   "name": "python",
   "nbconvert_exporter": "python",
   "pygments_lexer": "ipython3",
   "version": "3.13.2"
  }
 },
 "nbformat": 4,
 "nbformat_minor": 2
}
